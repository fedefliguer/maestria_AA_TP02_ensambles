{
  "nbformat": 4,
  "nbformat_minor": 0,
  "metadata": {
    "colab": {
      "name": "AA - Grupo 6 - TP 2",
      "provenance": [],
      "collapsed_sections": [],
      "toc_visible": true
    },
    "kernelspec": {
      "name": "python3",
      "display_name": "Python 3"
    }
  },
  "cells": [
    {
      "cell_type": "markdown",
      "metadata": {
        "id": "cyTV1W3iq7pi",
        "colab_type": "text"
      },
      "source": [
        "# 1. Pre-github y auxiliares para entender el problema"
      ]
    },
    {
      "cell_type": "markdown",
      "metadata": {
        "id": "o6NoNj-Y948t",
        "colab_type": "text"
      },
      "source": [
        "## Descarga de los datos, importación de librerías, armado de carpetas"
      ]
    },
    {
      "cell_type": "code",
      "metadata": {
        "id": "nmWq7e2DuCx-",
        "colab_type": "code",
        "colab": {
          "base_uri": "https://localhost:8080/",
          "height": 204
        },
        "outputId": "d802f9e6-3771-44c7-b191-7c0ceaadf641"
      },
      "source": [
        "!wget http://download.tensorflow.org/data/speech_commands_v0.01.tar.gz\n",
        "!mkdir speechcommands\n",
        "!tar -xf speech_commands_v0.01.tar.gz -C /content/speechcommands"
      ],
      "execution_count": null,
      "outputs": [
        {
          "output_type": "stream",
          "text": [
            "--2020-07-12 15:24:33--  http://download.tensorflow.org/data/speech_commands_v0.01.tar.gz\n",
            "Resolving download.tensorflow.org (download.tensorflow.org)... 173.194.216.128, 2607:f8b0:400c:c03::80\n",
            "Connecting to download.tensorflow.org (download.tensorflow.org)|173.194.216.128|:80... connected.\n",
            "HTTP request sent, awaiting response... 200 OK\n",
            "Length: 1489096277 (1.4G) [application/gzip]\n",
            "Saving to: ‘speech_commands_v0.01.tar.gz’\n",
            "\n",
            "speech_commands_v0. 100%[===================>]   1.39G   114MB/s    in 12s     \n",
            "\n",
            "2020-07-12 15:24:46 (117 MB/s) - ‘speech_commands_v0.01.tar.gz’ saved [1489096277/1489096277]\n",
            "\n"
          ],
          "name": "stdout"
        }
      ]
    },
    {
      "cell_type": "markdown",
      "metadata": {
        "id": "PbdTHojntzjD",
        "colab_type": "text"
      },
      "source": [
        "## Declaracion de Librerias"
      ]
    },
    {
      "cell_type": "code",
      "metadata": {
        "id": "wCQefSkcty9Q",
        "colab_type": "code",
        "colab": {}
      },
      "source": [
        "import librosa\n",
        "import glob\n",
        "import numpy as np\n",
        "import pandas as pd\n",
        "import matplotlib.pyplot as plt\n",
        "from IPython.display import Audio\n",
        "from librosa.display import specshow\n",
        "from google.colab import drive\n",
        "import re"
      ],
      "execution_count": null,
      "outputs": []
    },
    {
      "cell_type": "code",
      "metadata": {
        "id": "G9II2JPHpEF1",
        "colab_type": "code",
        "colab": {}
      },
      "source": [
        "zero_wavs = glob.glob('speechcommands/zero/*.wav')\n",
        "one_wavs = glob.glob('speechcommands/one/*.wav')\n",
        "two_wavs = glob.glob('speechcommands/two/*.wav')\n",
        "three_wavs = glob.glob('speechcommands/three/*.wav')\n",
        "four_wavs = glob.glob('speechcommands/four/*.wav')\n",
        "five_wavs = glob.glob('speechcommands/five/*.wav')\n",
        "six_wavs = glob.glob('speechcommands/six/*.wav')\n",
        "seven_wavs = glob.glob('speechcommands/seven/*.wav')\n",
        "eight_wavs = glob.glob('speechcommands/eight/*.wav')\n",
        "nine_wavs = glob.glob('speechcommands/nine/*.wav')\n"
      ],
      "execution_count": null,
      "outputs": []
    },
    {
      "cell_type": "markdown",
      "metadata": {
        "id": "GQLRbF_ArD3-",
        "colab_type": "text"
      },
      "source": [
        "## Escuchar un audio"
      ]
    },
    {
      "cell_type": "code",
      "metadata": {
        "id": "xgwb0kKJpb6C",
        "colab_type": "code",
        "colab": {
          "base_uri": "https://localhost:8080/",
          "height": 35
        },
        "outputId": "720874cb-3899-4a82-a11b-d38949e51fa7"
      },
      "source": [
        "'''\n",
        "x,sr = librosa.core.load(nine_wavs[0],sr=None)\n",
        "Audio(x,rate=sr)\n",
        "'''"
      ],
      "execution_count": null,
      "outputs": [
        {
          "output_type": "execute_result",
          "data": {
            "application/vnd.google.colaboratory.intrinsic": {
              "type": "string"
            },
            "text/plain": [
              "'\\nx,sr = librosa.core.load(nine_wavs[0],sr=None)\\nAudio(x,rate=sr)\\n'"
            ]
          },
          "metadata": {
            "tags": []
          },
          "execution_count": 23
        }
      ]
    },
    {
      "cell_type": "markdown",
      "metadata": {
        "id": "6MKTg47yrUxF",
        "colab_type": "text"
      },
      "source": [
        "## Construir la base"
      ]
    },
    {
      "cell_type": "markdown",
      "metadata": {
        "id": "wX6aBN4mtubX",
        "colab_type": "text"
      },
      "source": [
        "Mini introducción con todo lo necesario: Todo lo que representa a la naturaleza del sonido en un momento T está contenido en el valor de su MFCC y el valor de su energía, por lo que todo lo que nos podría ayudar a predecirlo está ahí. Pero además de el valor en T, importa la evolución en cada momento, medida como la velocidad (delta) y la aceleración (delta cuadrado). El dataset, entonces, es de N (n_mfcc) valores de media y std para MFCC, N valores de media y std para Delta MFCC, N valores para media y std para Delta^2 MFCC, un valor de media y std para energía, un valor de media y std para Delta energía y un valor de media y std para Delta^2 energía."
      ]
    },
    {
      "cell_type": "code",
      "metadata": {
        "id": "EovHzRZvqUnl",
        "colab_type": "code",
        "colab": {}
      },
      "source": [
        "import numpy as np\n",
        "\n",
        "# Función que extrae valores desde una observación\n",
        "\n",
        "def calculate_features(filename, n_mfcc=12,delta=True,deltadelta=True,energy=True, summary_fn = [np.mean, np.std], summary_names=['mean','std']):\n",
        "  #Abro el archivo:\n",
        "  x, sr = librosa.core.load(filename,sr=None)\n",
        "  \n",
        "  #Calculo MFCCs\n",
        "  features = librosa.feature.mfcc(x,sr=sr,n_mfcc=n_mfcc)\n",
        "  feat_names = ['mfcc_{}'.format(i) for i in range(n_mfcc)]\n",
        "  #Calculo energia:\n",
        "  if energy:\n",
        "    energy = librosa.feature.rmse(x)\n",
        "    features = np.concatenate([features,energy])\n",
        "    feat_names = feat_names + ['energy']\n",
        "  #Aplico media y desvio estandar por defecto\n",
        "  summary_features = np.concatenate([fn(features,axis=1) for fn in summary_fn])\n",
        "  feat_names = ['{}_{}'.format(name_i,summ_i) for summ_i in summary_names for name_i in feat_names]\n",
        "  \n",
        "  #Lo mismo con los delta\n",
        "  if delta:\n",
        "    deltafeatures = np.diff(features)\n",
        "    summary_features = np.concatenate([summary_features,np.concatenate([fn(deltafeatures,axis=1) for fn in summary_fn])])\n",
        "    d_names = ['d{}'.format(name) for name in feat_names]\n",
        "  else:\n",
        "    d_names = []\n",
        "\n",
        "  #Y con los delta de segundo orden\n",
        "  if deltadelta:\n",
        "    deltadeltafeatures = np.diff(features,n=2)\n",
        "    summary_features = np.concatenate([summary_features,np.concatenate([fn(deltadeltafeatures,axis=1) for fn in summary_fn])]) \n",
        "    dd_names = ['dd{}'.format(name) for name in feat_names]\n",
        "  else:\n",
        "    dd_names = []\n",
        "\n",
        "  feat_names = feat_names + d_names + dd_names\n",
        "  \n",
        "  return summary_features, feat_names   \n",
        "\n",
        "# funciones soporte\n",
        "\n",
        "# Me quedo con los audios de los numeros 0..9\n",
        "# Defino un listado de los nombres de los folders que quiero quedarme.\n",
        "NUMBERS = {\n",
        "    'zero': 0,\n",
        "    'one':1,\n",
        "    'two':2,\n",
        "    'three':3,\n",
        "    'four':4,\n",
        "    'five':5,\n",
        "    'six':6,\n",
        "    'seven':7,\n",
        "    'eight':8,\n",
        "    'nine':9\n",
        "}\n",
        "\n",
        "def get_folder_name(filename):\n",
        "  folder = ''\n",
        "  m = re.match(\"(.*)\\/.*.wav\", filename)\n",
        "  if m:\n",
        "    return m.group(1)\n",
        "\n",
        "def get_partition(path):\n",
        "  partition_list = []\n",
        "  with open(path, \"r\") as a_file:\n",
        "    for line in a_file:\n",
        "      line = line.strip()\n",
        "      folder = get_folder_name(line)\n",
        "      if folder in NUMBERS:\n",
        "        partition_list.append('speechcommands/{0}'.format(line))\n",
        "  return partition_list\n",
        "\n",
        "def generate_df(validation_set, testing_set):\n",
        "  data = []\n",
        "  columns = []\n",
        "\n",
        "  for num_key, num_value  in NUMBERS.items():\n",
        "    wavs = glob.glob('speechcommands/{0}/*.wav'.format(num_key))\n",
        "    for path in wavs:\n",
        "      feature, names = calculate_features(path)\n",
        "      type = 'training' \n",
        "      if path in validation_set:\n",
        "        type = 'validation' \n",
        "      elif path in testing_set:\n",
        "        type = 'testing' \n",
        "\n",
        "      data.append(np.append(feature, [num_value, path, type]))\n",
        "      columns = names + ['target', 'filename', 'type']\n",
        "\n",
        "  dataset = pd.DataFrame(data, columns = columns)\n",
        "  return dataset"
      ],
      "execution_count": null,
      "outputs": []
    },
    {
      "cell_type": "markdown",
      "metadata": {
        "id": "BVLVPPfU1lTE",
        "colab_type": "text"
      },
      "source": [
        "# 2. Construcción del df"
      ]
    },
    {
      "cell_type": "code",
      "metadata": {
        "id": "glCk1924-ojb",
        "colab_type": "code",
        "colab": {}
      },
      "source": [
        "import pandas as pd\n",
        "import librosa\n",
        "from IPython.display import Audio\n",
        "import numpy as np"
      ],
      "execution_count": null,
      "outputs": []
    },
    {
      "cell_type": "code",
      "metadata": {
        "id": "pMiLHzSA0KyA",
        "colab_type": "code",
        "colab": {}
      },
      "source": [
        "#Descargar el dataset creado\n",
        "url = 'https://raw.githubusercontent.com/dikaoru/csv-aa/master/speech_dataset.csv'\n",
        "dataset = pd.read_csv(url, index_col = 0)"
      ],
      "execution_count": null,
      "outputs": []
    },
    {
      "cell_type": "code",
      "metadata": {
        "id": "3r4XW3FZ0Mfo",
        "colab_type": "code",
        "colab": {
          "base_uri": "https://localhost:8080/",
          "height": 85
        },
        "outputId": "b6fa8e1d-1162-4988-d500-3fe7f1fbfebd"
      },
      "source": [
        "#Se separa training. validation y testing\n",
        "is_training = dataset[\"type\"] == 'training'\n",
        "is_validation = dataset[\"type\"] == 'validation'\n",
        "is_testing = dataset[\"type\"] == 'testing'\n",
        "\n",
        "df_training = dataset[is_training]\n",
        "df_validation = dataset[is_validation]\n",
        "df_testing = dataset[is_testing]\n",
        "\n",
        "print('dataset shape: ', dataset.shape)\n",
        "print('training shape:', df_training.shape)\n",
        "print('validation shape', df_validation.shape)\n",
        "print('testing shape:', df_testing.shape)"
      ],
      "execution_count": null,
      "outputs": [
        {
          "output_type": "stream",
          "text": [
            "dataset shape:  (23666, 81)\n",
            "training shape: (18620, 81)\n",
            "validation shape (2494, 81)\n",
            "testing shape: (2552, 81)\n"
          ],
          "name": "stdout"
        }
      ]
    },
    {
      "cell_type": "markdown",
      "metadata": {
        "id": "v5XZGpPSxN4H",
        "colab_type": "text"
      },
      "source": [
        "# 3. Modelos\n",
        "\n",
        "\n"
      ]
    },
    {
      "cell_type": "markdown",
      "metadata": {
        "id": "Pp2ddtRbf826",
        "colab_type": "text"
      },
      "source": [
        "### Declaracion de las librerias"
      ]
    },
    {
      "cell_type": "code",
      "metadata": {
        "id": "01gKMMMVgBfE",
        "colab_type": "code",
        "colab": {}
      },
      "source": [
        "from sklearn.model_selection import ParameterSampler\n",
        "from sklearn.naive_bayes import GaussianNB\n",
        "from sklearn.ensemble import RandomForestClassifier\n",
        "from sklearn.ensemble import GradientBoostingClassifier\n",
        "from sklearn.metrics import accuracy_score, plot_confusion_matrix, classification_report\n",
        "from joblib import dump, load"
      ],
      "execution_count": null,
      "outputs": []
    },
    {
      "cell_type": "markdown",
      "metadata": {
        "id": "YsrbowVNbqAM",
        "colab_type": "text"
      },
      "source": [
        "### Declaracion de los dataset, metrica y funciones soporte"
      ]
    },
    {
      "cell_type": "code",
      "metadata": {
        "id": "MEQ_qtw8bvXr",
        "colab_type": "code",
        "colab": {}
      },
      "source": [
        "# funciones de soporte\n",
        "\n",
        "# dibuja una tabla con las metricas\n",
        "def render_metric_table(values):\n",
        "  fmt = \"{0:^30}|{1:^9}\"\n",
        "  print(fmt.format('modelo', 'score'))\n",
        "  print(\"{0:-^30}|{1:-^9}\".format('', ''))\n",
        "  for val in values:\n",
        "    if not val:\n",
        "      print(\"{0:-^39}\".format('', ''))\n",
        "    else:\n",
        "      print(fmt.format('{0}'.format(val[0]), \"{:.3f}\".format(val[1])))\n",
        "\n",
        "\n",
        "# busca los mejores parametros (esta funcion la arme en funcion a la respuesta del documento de consultas)\n",
        "def search_hyperparameters(parameters, model, n_iter = 10):\n",
        "  param_list = ParameterSampler(parameters, n_iter, random_state=1)\n",
        "\n",
        "  best_score = 0\n",
        "  best_params = None\n",
        "  best_model = None\n",
        "\n",
        "  for params in param_list:\n",
        "    clf = model(random_state=1, **params)\n",
        "    clf = clf.fit(Xtr, ytr)\n",
        "    \n",
        "    clf_y_pred = clf.predict(Xv)\n",
        "    score = metric(yv, clf_y_pred)\n",
        "\n",
        "    if (score > best_score):\n",
        "      best_score = score\n",
        "      best_params = params\n",
        "      best_model = clf\n",
        "\n",
        "  return best_score, best_params, best_model"
      ],
      "execution_count": null,
      "outputs": []
    },
    {
      "cell_type": "code",
      "metadata": {
        "id": "l-xKkq6lbyMR",
        "colab_type": "code",
        "colab": {}
      },
      "source": [
        "# defino los datasets\n",
        "Xtr, ytr = df_training.iloc[:,1:78], df_training.iloc[:,78]\n",
        "Xv, yv = df_validation.iloc[:,1:78], df_validation.iloc[:,78]\n",
        "Xt, yt = df_testing.iloc[:,1:78], df_testing.iloc[:,78]\n",
        "\n",
        "# Defino la metrica con la que voy a medir performance.\n",
        "metric = accuracy_score\n",
        "\n",
        "# flag para que no corra las funciones que tardan mas de 1hs, \n",
        "# Si es FALSE, corre valores pre-determinados que se sacaron de una corrida full.\n",
        "run_full = False"
      ],
      "execution_count": null,
      "outputs": []
    },
    {
      "cell_type": "markdown",
      "metadata": {
        "id": "SIitq-M8cIJI",
        "colab_type": "text"
      },
      "source": [
        "## 3.1 Naive Bayes"
      ]
    },
    {
      "cell_type": "markdown",
      "metadata": {
        "id": "9650IGPMdGEy",
        "colab_type": "text"
      },
      "source": [
        "### Train model"
      ]
    },
    {
      "cell_type": "code",
      "metadata": {
        "id": "zNb-GCOqc0mt",
        "colab_type": "code",
        "colab": {
          "base_uri": "https://localhost:8080/",
          "height": 357
        },
        "outputId": "f3123fbf-0dce-4b6d-e6cc-1fde3a6501b0"
      },
      "source": [
        "# defino y entreno el modelo en el dataset de training\n",
        "if run_full:\n",
        "  gnb = GaussianNB()\n",
        "  gnb = gnb.fit(Xtr, ytr)\n",
        "else:\n",
        "  # Este archivo contiene el modelo ya entrenado, nos evitamos entrenar en cada run para mejorar los tiempos\n",
        "  # https://scikit-learn.org/stable/modules/model_persistence.html\n",
        "  !wget \"https://github.com/dikaoru/csv-aa/blob/master/naive_bayes.joblib?raw=true\" -O /content/naive_bayes.joblib\n",
        "\n",
        "  # Aca carga el modelo desde un archivo joblib\n",
        "  gnb = load('/content/naive_bayes.joblib')"
      ],
      "execution_count": null,
      "outputs": [
        {
          "output_type": "stream",
          "text": [
            "--2020-07-12 15:25:21--  https://github.com/dikaoru/csv-aa/blob/master/naive_bayes.joblib?raw=true\n",
            "Resolving github.com (github.com)... 140.82.114.4\n",
            "Connecting to github.com (github.com)|140.82.114.4|:443... connected.\n",
            "HTTP request sent, awaiting response... 302 Found\n",
            "Location: https://github.com/dikaoru/csv-aa/raw/master/naive_bayes.joblib [following]\n",
            "--2020-07-12 15:25:22--  https://github.com/dikaoru/csv-aa/raw/master/naive_bayes.joblib\n",
            "Reusing existing connection to github.com:443.\n",
            "HTTP request sent, awaiting response... 302 Found\n",
            "Location: https://raw.githubusercontent.com/dikaoru/csv-aa/master/naive_bayes.joblib [following]\n",
            "--2020-07-12 15:25:22--  https://raw.githubusercontent.com/dikaoru/csv-aa/master/naive_bayes.joblib\n",
            "Resolving raw.githubusercontent.com (raw.githubusercontent.com)... 151.101.0.133, 151.101.64.133, 151.101.128.133, ...\n",
            "Connecting to raw.githubusercontent.com (raw.githubusercontent.com)|151.101.0.133|:443... connected.\n",
            "HTTP request sent, awaiting response... 200 OK\n",
            "Length: 13235 (13K) [application/octet-stream]\n",
            "Saving to: ‘/content/naive_bayes.joblib’\n",
            "\n",
            "\r          /content/   0%[                    ]       0  --.-KB/s               \r/content/naive_baye 100%[===================>]  12.92K  --.-KB/s    in 0s      \n",
            "\n",
            "2020-07-12 15:25:22 (98.3 MB/s) - ‘/content/naive_bayes.joblib’ saved [13235/13235]\n",
            "\n"
          ],
          "name": "stdout"
        }
      ]
    },
    {
      "cell_type": "markdown",
      "metadata": {
        "id": "Q6L_Imy7ipTl",
        "colab_type": "text"
      },
      "source": [
        "### Resultado de las métricas"
      ]
    },
    {
      "cell_type": "code",
      "metadata": {
        "id": "W0Hx9OyxY4eq",
        "colab_type": "code",
        "colab": {
          "base_uri": "https://localhost:8080/",
          "height": 102
        },
        "outputId": "9318132e-1e4f-4de3-833e-c10881340c4a"
      },
      "source": [
        "# training\n",
        "y_pred_gnb_train = gnb.predict(Xtr)\n",
        "gnb_score_training = metric(ytr,y_pred_gnb_train)\n",
        "\n",
        "# validation\n",
        "y_pred_gnb_val = gnb.predict(Xv)\n",
        "gnb_score_validation = metric(yv,y_pred_gnb_val)\n",
        "\n",
        "# testing\n",
        "y_pred_gnb_test = gnb.predict(Xt)\n",
        "gnb_score_testing = metric(yt,y_pred_gnb_test)\n",
        "\n",
        "lista = [\n",
        "[ 'Naive Bayes Training' , gnb_score_training],\n",
        "[ 'Naive Bayes Validation' , gnb_score_validation],\n",
        "['Naive Bayes Testing' , gnb_score_testing ]\n",
        "]\n",
        "render_metric_table(lista)"
      ],
      "execution_count": null,
      "outputs": [
        {
          "output_type": "stream",
          "text": [
            "            modelo            |  score  \n",
            "------------------------------|---------\n",
            "     Naive Bayes Training     |  0.541  \n",
            "    Naive Bayes Validation    |  0.535  \n",
            "     Naive Bayes Testing      |  0.530  \n"
          ],
          "name": "stdout"
        }
      ]
    },
    {
      "cell_type": "markdown",
      "metadata": {
        "id": "BIDVG_CNilzV",
        "colab_type": "text"
      },
      "source": [
        "### Matriz de Confusión"
      ]
    },
    {
      "cell_type": "code",
      "metadata": {
        "id": "yWkRgicFh7T_",
        "colab_type": "code",
        "colab": {
          "base_uri": "https://localhost:8080/",
          "height": 863
        },
        "outputId": "6f6c6405-e9a4-4546-dd40-f35176ca1144"
      },
      "source": [
        "# matriz de confusion\n",
        "fig, ax = plt.subplots(figsize=(10, 10))\n",
        "cm = plot_confusion_matrix(gnb, Xt, yt, ax=ax, values_format=\"d\")\n",
        "\n",
        "# resporte de metricas por clase\n",
        "print(classification_report(yt, y_pred_gnb_test))"
      ],
      "execution_count": null,
      "outputs": [
        {
          "output_type": "stream",
          "text": [
            "              precision    recall  f1-score   support\n",
            "\n",
            "           0       0.56      0.50      0.53       250\n",
            "           1       0.38      0.48      0.43       248\n",
            "           2       0.42      0.50      0.46       264\n",
            "           3       0.52      0.49      0.50       267\n",
            "           4       0.66      0.56      0.61       253\n",
            "           5       0.63      0.58      0.60       271\n",
            "           6       0.47      0.65      0.55       244\n",
            "           7       0.57      0.46      0.51       239\n",
            "           8       0.63      0.61      0.62       257\n",
            "           9       0.59      0.46      0.52       259\n",
            "\n",
            "    accuracy                           0.53      2552\n",
            "   macro avg       0.54      0.53      0.53      2552\n",
            "weighted avg       0.54      0.53      0.53      2552\n",
            "\n"
          ],
          "name": "stdout"
        },
        {
          "output_type": "display_data",
          "data": {
            "image/png": "[encoded data removed]",
            "text/plain": [
              "<Figure size 720x720 with 2 Axes>"
            ]
          },
          "metadata": {
            "tags": [],
            "needs_background": "light"
          }
        }
      ]
    },
    {
      "cell_type": "markdown",
      "metadata": {
        "id": "qg73Lh1qnYIw",
        "colab_type": "text"
      },
      "source": [
        "## 3.2 Random Forest"
      ]
    },
    {
      "cell_type": "markdown",
      "metadata": {
        "id": "zsLOwqizowzU",
        "colab_type": "text"
      },
      "source": [
        "### Train model: Búsqueda de los hiperparámetros"
      ]
    },
    {
      "cell_type": "code",
      "metadata": {
        "id": "SWAlKjO3v_A-",
        "colab_type": "code",
        "colab": {
          "base_uri": "https://localhost:8080/",
          "height": 357
        },
        "outputId": "8bb8121d-fb64-4a10-b130-afe9af5621c5"
      },
      "source": [
        "if run_full:\n",
        "  parameters = {'n_estimators':range(10, 200, 5), 'max_depth':range(1,40)}\n",
        "  score, params, rfc = search_hyperparameters(parameters, RandomForestClassifier)\n",
        "else:\n",
        "  # Este archivo contiene el modelo ya entrenado, nos evitamos entrenar en cada run para mejorar los tiempos\n",
        "  # https://scikit-learn.org/stable/modules/model_persistence.html\n",
        "  !wget \"https://github.com/dikaoru/csv-aa/blob/master/random_forest.tar.gz?raw=true\"\n",
        "  !tar -xf random_forest.tar.gz?raw=true -C /content/\n",
        "\n"
      ],
      "execution_count": null,
      "outputs": [
        {
          "output_type": "stream",
          "text": [
            "--2020-07-12 15:25:24--  https://github.com/dikaoru/csv-aa/blob/master/random_forest.tar.gz?raw=true\n",
            "Resolving github.com (github.com)... 140.82.112.3\n",
            "Connecting to github.com (github.com)|140.82.112.3|:443... connected.\n",
            "HTTP request sent, awaiting response... 302 Found\n",
            "Location: https://github.com/dikaoru/csv-aa/raw/master/random_forest.tar.gz [following]\n",
            "--2020-07-12 15:25:25--  https://github.com/dikaoru/csv-aa/raw/master/random_forest.tar.gz\n",
            "Reusing existing connection to github.com:443.\n",
            "HTTP request sent, awaiting response... 302 Found\n",
            "Location: https://raw.githubusercontent.com/dikaoru/csv-aa/master/random_forest.tar.gz [following]\n",
            "--2020-07-12 15:25:25--  https://raw.githubusercontent.com/dikaoru/csv-aa/master/random_forest.tar.gz\n",
            "Resolving raw.githubusercontent.com (raw.githubusercontent.com)... 151.101.0.133, 151.101.64.133, 151.101.128.133, ...\n",
            "Connecting to raw.githubusercontent.com (raw.githubusercontent.com)|151.101.0.133|:443... connected.\n",
            "HTTP request sent, awaiting response... 200 OK\n",
            "Length: 25527307 (24M) [application/octet-stream]\n",
            "Saving to: ‘random_forest.tar.gz?raw=true’\n",
            "\n",
            "random_forest.tar.g 100%[===================>]  24.34M  40.7MB/s    in 0.6s    \n",
            "\n",
            "2020-07-12 15:25:26 (40.7 MB/s) - ‘random_forest.tar.gz?raw=true’ saved [25527307/25527307]\n",
            "\n"
          ],
          "name": "stdout"
        }
      ]
    },
    {
      "cell_type": "markdown",
      "metadata": {
        "id": "FBR8rCiVXK_U",
        "colab_type": "text"
      },
      "source": [
        "### Hiperparametros"
      ]
    },
    {
      "cell_type": "code",
      "metadata": {
        "id": "WTGfHz6qQ1GK",
        "colab_type": "code",
        "colab": {
          "base_uri": "https://localhost:8080/",
          "height": 51
        },
        "outputId": "40e77ca6-6f72-476f-fa44-80b53b6834e9"
      },
      "source": [
        "# Aca carga el modelo desde un archivo joblib\n",
        "rfc_params = load('/content/random_forest.joblib')\n",
        "\n",
        "# extraigo el modelo, parametros y score guardados en la busqueda de hiperparametros\n",
        "rfc = rfc_params['model']\n",
        "best_params = rfc_params['params']\n",
        "rfc_score_validation = rfc_params['score']\n",
        "\n",
        "print('Los parámetros que dan la mejor métrica son:', best_params)\n",
        "print('El valor de la mejor métrica es:', rfc_score_validation)"
      ],
      "execution_count": null,
      "outputs": [
        {
          "output_type": "stream",
          "text": [
            "Los parámetros que dan la mejor métrica son: {'n_estimators': 145, 'max_depth': 34, 'bootstrap': False}\n",
            "El valor de la mejor métrica es: 0.7012830793905372\n"
          ],
          "name": "stdout"
        }
      ]
    },
    {
      "cell_type": "markdown",
      "metadata": {
        "id": "qTqABTpJwbhl",
        "colab_type": "text"
      },
      "source": [
        "### Resultado de las métricas"
      ]
    },
    {
      "cell_type": "code",
      "metadata": {
        "id": "2qN4QFgpwbCH",
        "colab_type": "code",
        "colab": {
          "base_uri": "https://localhost:8080/",
          "height": 102
        },
        "outputId": "7313e3c8-4454-4ed5-c843-b0be3366e7ed"
      },
      "source": [
        "# evaluo sobre el dataset de training\n",
        "y_pred_rfc_train = rfc.predict(Xtr)\n",
        "rfc_score_training = metric(ytr,y_pred_rfc_train)\n",
        "\n",
        "#Evaluo sobre el dataset de testing\n",
        "y_pred_rfc_test = rfc.predict(Xt)\n",
        "rfc_score_testing = metric(yt,y_pred_rfc_test)\n",
        "\n",
        "\n",
        "#Resultado de las métricas\n",
        "list_scores = [['Random Forest Training', rfc_score_training], \n",
        "               ['Random Forest Validation', rfc_score_validation],\n",
        "               ['Random Forest Testing', rfc_score_testing]]\n",
        "\n",
        "# dibujo una tabla con los valores de las metricas.\n",
        "render_metric_table(list_scores)"
      ],
      "execution_count": null,
      "outputs": [
        {
          "output_type": "stream",
          "text": [
            "            modelo            |  score  \n",
            "------------------------------|---------\n",
            "    Random Forest Training    |  1.000  \n",
            "   Random Forest Validation   |  0.701  \n",
            "    Random Forest Testing     |  0.679  \n"
          ],
          "name": "stdout"
        }
      ]
    },
    {
      "cell_type": "markdown",
      "metadata": {
        "id": "eUwiByDB3eny",
        "colab_type": "text"
      },
      "source": [
        "### Matriz de Confusión"
      ]
    },
    {
      "cell_type": "code",
      "metadata": {
        "id": "ouE3BTQj2XMD",
        "colab_type": "code",
        "colab": {
          "base_uri": "https://localhost:8080/",
          "height": 869
        },
        "outputId": "3dd7d13e-6ae1-4db1-eb22-bd254e9adfdc"
      },
      "source": [
        "# matriz de confusion\n",
        "fig, ax = plt.subplots(figsize=(10, 10))\n",
        "cm = plot_confusion_matrix(rfc, Xt, yt, ax=ax, values_format=\"d\")\n",
        "\n",
        "# resporte de metricas por clase\n",
        "print(classification_report(yt, y_pred_rfc_test))"
      ],
      "execution_count": null,
      "outputs": [
        {
          "output_type": "stream",
          "text": [
            "              precision    recall  f1-score   support\n",
            "\n",
            "           0       0.65      0.65      0.65       250\n",
            "           1       0.71      0.56      0.63       248\n",
            "           2       0.62      0.56      0.59       264\n",
            "           3       0.58      0.64      0.61       267\n",
            "           4       0.76      0.74      0.75       253\n",
            "           5       0.71      0.67      0.69       271\n",
            "           6       0.74      0.75      0.74       244\n",
            "           7       0.64      0.70      0.67       239\n",
            "           8       0.72      0.82      0.77       257\n",
            "           9       0.68      0.70      0.69       259\n",
            "\n",
            "    accuracy                           0.68      2552\n",
            "   macro avg       0.68      0.68      0.68      2552\n",
            "weighted avg       0.68      0.68      0.68      2552\n",
            "\n"
          ],
          "name": "stdout"
        },
        {
          "output_type": "display_data",
          "data": {
            "image/png": "[encoded data removed]",
            "text/plain": [
              "<Figure size 720x720 with 2 Axes>"
            ]
          },
          "metadata": {
            "tags": [],
            "needs_background": "light"
          }
        }
      ]
    },
    {
      "cell_type": "markdown",
      "metadata": {
        "id": "Lb3Jw4_P3NIY",
        "colab_type": "text"
      },
      "source": [
        "## 3.3 Gradient Boosting Classifier"
      ]
    },
    {
      "cell_type": "markdown",
      "metadata": {
        "id": "iI_lz5NE36c8",
        "colab_type": "text"
      },
      "source": [
        "### Train model: Búsqueda de los hiperparámetros"
      ]
    },
    {
      "cell_type": "code",
      "metadata": {
        "id": "MxNW17nN4YhW",
        "colab_type": "code",
        "colab": {
          "base_uri": "https://localhost:8080/",
          "height": 357
        },
        "outputId": "4498c739-b80f-4840-9682-15b9eb2813d3"
      },
      "source": [
        "parameters = parameters = {'n_estimators':range(10, 100, 5), 'max_depth':range(1,7), 'learning_rate':np.arange(0,1,0.01)}\n",
        "\n",
        "if run_full:\n",
        "  # la busqueda de hiperparametros tarda mas de 1hs.\n",
        "  score, params, model = search_hyperparameters(parameters, GradientBoostingClassifier)\n",
        "else:\n",
        "  # Este archivo contiene el modelo ya entrenado, nos evitamos entrenar en cada run para mejorar los tiempos\n",
        "  # https://scikit-learn.org/stable/modules/model_persistence.html\n",
        "  !wget \"https://github.com/dikaoru/csv-aa/blob/master/gradient_boosting.joblib?raw=true\" -O /content/gradient_boosting.joblib"
      ],
      "execution_count": null,
      "outputs": [
        {
          "output_type": "stream",
          "text": [
            "--2020-07-12 15:25:32--  https://github.com/dikaoru/csv-aa/blob/master/gradient_boosting.joblib?raw=true\n",
            "Resolving github.com (github.com)... 140.82.114.4\n",
            "Connecting to github.com (github.com)|140.82.114.4|:443... connected.\n",
            "HTTP request sent, awaiting response... 302 Found\n",
            "Location: https://github.com/dikaoru/csv-aa/raw/master/gradient_boosting.joblib [following]\n",
            "--2020-07-12 15:25:33--  https://github.com/dikaoru/csv-aa/raw/master/gradient_boosting.joblib\n",
            "Reusing existing connection to github.com:443.\n",
            "HTTP request sent, awaiting response... 302 Found\n",
            "Location: https://raw.githubusercontent.com/dikaoru/csv-aa/master/gradient_boosting.joblib [following]\n",
            "--2020-07-12 15:25:33--  https://raw.githubusercontent.com/dikaoru/csv-aa/master/gradient_boosting.joblib\n",
            "Resolving raw.githubusercontent.com (raw.githubusercontent.com)... 151.101.0.133, 151.101.64.133, 151.101.128.133, ...\n",
            "Connecting to raw.githubusercontent.com (raw.githubusercontent.com)|151.101.0.133|:443... connected.\n",
            "HTTP request sent, awaiting response... 200 OK\n",
            "Length: 4059188 (3.9M) [application/octet-stream]\n",
            "Saving to: ‘/content/gradient_boosting.joblib’\n",
            "\n",
            "/content/gradient_b 100%[===================>]   3.87M  --.-KB/s    in 0.1s    \n",
            "\n",
            "2020-07-12 15:25:33 (37.5 MB/s) - ‘/content/gradient_boosting.joblib’ saved [4059188/4059188]\n",
            "\n"
          ],
          "name": "stdout"
        }
      ]
    },
    {
      "cell_type": "markdown",
      "metadata": {
        "id": "we8PWCupXAGv",
        "colab_type": "text"
      },
      "source": [
        "### Hiperparametros"
      ]
    },
    {
      "cell_type": "code",
      "metadata": {
        "id": "BWegDx2dXFJf",
        "colab_type": "code",
        "colab": {
          "base_uri": "https://localhost:8080/",
          "height": 51
        },
        "outputId": "d16b9a33-17b8-4532-df01-ab5c2ed1f01c"
      },
      "source": [
        "gbc_params = load('/content/gradient_boosting.joblib')\n",
        "\n",
        "# extraigo el modelo, parametros y score guardados en la busqueda de hiperparametros\n",
        "gbc = gbc_params['model']\n",
        "best_params = gbc_params['params']\n",
        "gbc_score_validation = gbc_params['score']\n",
        "\n",
        "print('Los parámetros que dan la mejor métrica son:', best_params)\n",
        "print('El valor de la mejor métrica es:', gbc_score_validation)"
      ],
      "execution_count": null,
      "outputs": [
        {
          "output_type": "stream",
          "text": [
            "Los parámetros que dan la mejor métrica son: {'n_estimators': 85, 'max_depth': 5, 'learning_rate': 0.26}\n",
            "El valor de la mejor métrica es: 0.7305533279871692\n"
          ],
          "name": "stdout"
        }
      ]
    },
    {
      "cell_type": "markdown",
      "metadata": {
        "id": "Hgva5Q2YYabc",
        "colab_type": "text"
      },
      "source": [
        "### Resultado de las métricas"
      ]
    },
    {
      "cell_type": "code",
      "metadata": {
        "id": "EL_ry0WW5U7b",
        "colab_type": "code",
        "colab": {
          "base_uri": "https://localhost:8080/",
          "height": 102
        },
        "outputId": "463df739-31b2-4ca6-e8ef-39cffb8f1909"
      },
      "source": [
        "# evaluo sobre el dataset de training\n",
        "y_pred_gbc_train = gbc.predict(Xtr)\n",
        "gbc_score_training = metric(ytr,y_pred_gbc_train)\n",
        "\n",
        "#Evaluo sobre el dataset de testing\n",
        "y_pred_gbc_test = gbc.predict(Xt)\n",
        "gbc_score_testing = metric(yt,y_pred_gbc_test)\n",
        "\n",
        "\n",
        "#Resultado de las métricas\n",
        "list_scores = [['Gradient Boosting Training', gbc_score_training], \n",
        "               ['Gradient Boosting Validation', gbc_score_validation],\n",
        "               ['Gradient Boosting Testing', gbc_score_testing]]\n",
        "\n",
        "# dibujo una tabla con los valores de las metricas.\n",
        "render_metric_table(list_scores)"
      ],
      "execution_count": null,
      "outputs": [
        {
          "output_type": "stream",
          "text": [
            "            modelo            |  score  \n",
            "------------------------------|---------\n",
            "  Gradient Boosting Training  |  1.000  \n",
            " Gradient Boosting Validation |  0.731  \n",
            "  Gradient Boosting Testing   |  0.719  \n"
          ],
          "name": "stdout"
        }
      ]
    },
    {
      "cell_type": "markdown",
      "metadata": {
        "id": "k6JukM7c4GfA",
        "colab_type": "text"
      },
      "source": [
        "### Matriz de Confusión"
      ]
    },
    {
      "cell_type": "code",
      "metadata": {
        "id": "WpxsuwGv5guw",
        "colab_type": "code",
        "colab": {
          "base_uri": "https://localhost:8080/",
          "height": 869
        },
        "outputId": "8ffd9e87-4a4c-4ab9-e770-c3ebb9b08d49"
      },
      "source": [
        "# matriz de confusion\n",
        "fig, ax = plt.subplots(figsize=(10, 10))\n",
        "cm = plot_confusion_matrix(gbc, Xt, yt, ax=ax, values_format=\"d\")\n",
        "\n",
        "\n",
        "# resporte de metricas por clase\n",
        "print(classification_report(yt, y_pred_gbc_test))"
      ],
      "execution_count": null,
      "outputs": [
        {
          "output_type": "stream",
          "text": [
            "              precision    recall  f1-score   support\n",
            "\n",
            "           0       0.76      0.70      0.73       250\n",
            "           1       0.69      0.60      0.65       248\n",
            "           2       0.65      0.66      0.65       264\n",
            "           3       0.59      0.66      0.62       267\n",
            "           4       0.80      0.73      0.76       253\n",
            "           5       0.73      0.72      0.73       271\n",
            "           6       0.83      0.77      0.80       244\n",
            "           7       0.65      0.81      0.72       239\n",
            "           8       0.81      0.80      0.81       257\n",
            "           9       0.74      0.75      0.74       259\n",
            "\n",
            "    accuracy                           0.72      2552\n",
            "   macro avg       0.72      0.72      0.72      2552\n",
            "weighted avg       0.72      0.72      0.72      2552\n",
            "\n"
          ],
          "name": "stdout"
        },
        {
          "output_type": "display_data",
          "data": {
            "image/png": "[encoded data removed]",
            "text/plain": [
              "<Figure size 720x720 with 2 Axes>"
            ]
          },
          "metadata": {
            "tags": [],
            "needs_background": "light"
          }
        }
      ]
    },
    {
      "cell_type": "markdown",
      "metadata": {
        "id": "k3aFXHwP3rsM",
        "colab_type": "text"
      },
      "source": [
        "#Agregamos ruido "
      ]
    },
    {
      "cell_type": "markdown",
      "metadata": {
        "id": "seDisRF-cKA6",
        "colab_type": "text"
      },
      "source": [
        "## Declaración de las librerías"
      ]
    },
    {
      "cell_type": "code",
      "metadata": {
        "id": "_7DPDxgHcJpq",
        "colab_type": "code",
        "colab": {}
      },
      "source": [
        "import numpy as np"
      ],
      "execution_count": null,
      "outputs": []
    },
    {
      "cell_type": "markdown",
      "metadata": {
        "id": "zQqr87Up3v1K",
        "colab_type": "text"
      },
      "source": [
        "## Agregamos ruido Gaussiano\n"
      ]
    },
    {
      "cell_type": "code",
      "metadata": {
        "id": "5MZO0ObL3yNK",
        "colab_type": "code",
        "colab": {}
      },
      "source": [
        "# @title Nivel de ruido Gaussiano\n",
        "nivel_de_ruido = 0.16 #@param {type:\"slider\", min:0, max:1, step:0.01}"
      ],
      "execution_count": null,
      "outputs": []
    },
    {
      "cell_type": "code",
      "metadata": {
        "id": "KR4H-uZUb85S",
        "colab_type": "code",
        "colab": {}
      },
      "source": [
        "# Función que agrega ruido gaussiano extrae valores desde una observación\n",
        "def calculate_features_with_noise(filename,n_mfcc=12,\n",
        "                                  delta=True,\n",
        "                                  deltadelta=True,\n",
        "                                  energy=True, \n",
        "                                  summary_fn = [np.mean, np.std], \n",
        "                                  summary_names=['mean','std']):\n",
        "  #Abro el archivo:\n",
        "  x, sr = librosa.core.load(filename,sr=None)\n",
        "  \n",
        "  #Agregamos ruido gaussiano\n",
        "  ruido = np.random.normal(size= x.shape) \n",
        "  x = x+ nivel_de_ruido*ruido\n",
        "  \n",
        "  #Calculo MFCCs\n",
        "  features = librosa.feature.mfcc(x,sr=sr,n_mfcc=n_mfcc)\n",
        "  feat_names = ['mfcc_{}'.format(i) for i in range(n_mfcc)]\n",
        "  #Calculo energia:\n",
        "  if energy:\n",
        "    energy = librosa.feature.rmse(x)\n",
        "    features = np.concatenate([features,energy])\n",
        "    feat_names = feat_names + ['energy']\n",
        "  #Aplico media y desvio estandar por defecto\n",
        "  summary_features = np.concatenate([fn(features,axis=1) for fn in summary_fn])\n",
        "  feat_names = ['{}_{}'.format(name_i,summ_i) for summ_i in summary_names for name_i in feat_names]\n",
        "  \n",
        "  #Lo mismo con los delta\n",
        "  if delta:\n",
        "    deltafeatures = np.diff(features)\n",
        "    summary_features = np.concatenate([summary_features,np.concatenate([fn(deltafeatures,axis=1) for fn in summary_fn])])\n",
        "    d_names = ['d{}'.format(name) for name in feat_names]\n",
        "  else:\n",
        "    d_names = []\n",
        "\n",
        "  #Y con los delta de segundo orden\n",
        "  if deltadelta:\n",
        "    deltadeltafeatures = np.diff(features,n=2)\n",
        "    summary_features = np.concatenate([summary_features,np.concatenate([fn(deltadeltafeatures,axis=1) for fn in summary_fn])]) \n",
        "    dd_names = ['dd{}'.format(name) for name in feat_names]\n",
        "  else:\n",
        "    dd_names = []\n",
        "\n",
        "  feat_names = feat_names + d_names + dd_names\n",
        "  \n",
        "  return summary_features, feat_names   \n",
        "\n",
        "# funciones soporte\n",
        "def generate_gaussiano_df(lista_testing):\n",
        "  data = []\n",
        "  columns = []\n",
        "\n",
        "  for num_key, num_value  in NUMBERS.items():\n",
        "    wavs = glob.glob('speechcommands/{0}/*.wav'.format(num_key))\n",
        "    for path in wavs:\n",
        "      if path in lista_testing:\n",
        "        feature, names = calculate_features_with_noise(path)\n",
        "        type = 'testing' \n",
        "        data.append(np.append(feature, [num_value, path, type]))\n",
        "        columns = names + ['target', 'filename', 'type']\n",
        "\n",
        "  dataset_con_ruido_gaussiano = pd.DataFrame(data, columns = columns)\n",
        "  return dataset_con_ruido_gaussiano"
      ],
      "execution_count": null,
      "outputs": []
    },
    {
      "cell_type": "code",
      "metadata": {
        "id": "4ghUU4GA4PUl",
        "colab_type": "code",
        "colab": {}
      },
      "source": [
        "if run_full:\n",
        "  #Generamos dataset de audios testing agregándole el nivel de ruido gaussiano elegido\n",
        "  lista_testing = get_partition('speechcommands/testing_list.txt')\n",
        "  df = generate_gaussiano_df(lista_testing)\n",
        "  print(df.shape)\n",
        "  df.to_csv('/content/speech_dataset_noise_gaussiano.csv', header=True, index=True) \n",
        "else:\n",
        "  #Descargar el dataset creado\n",
        "  # con 10% de ruido\n",
        "  # url = 'https://raw.githubusercontent.com/dikaoru/csv-aa/master/speech_dataset_noise_gaussiano.csv'\n",
        " \n",
        "  # con 1% de ruido\n",
        "  url = 'https://raw.githubusercontent.com/dikaoru/csv-aa/master/speech_dataset_noise_gaussiano-uno_porciento.csv'\n",
        "  df_ruido_gaussiano = pd.read_csv(url, index_col = 0)\n"
      ],
      "execution_count": null,
      "outputs": []
    },
    {
      "cell_type": "code",
      "metadata": {
        "id": "kcjVDiUS6ZIH",
        "colab_type": "code",
        "colab": {
          "base_uri": "https://localhost:8080/",
          "height": 253
        },
        "outputId": "94f315e6-3aa3-430a-f061-bcf876ae651b"
      },
      "source": [
        "# #Leer el dataset creado\n",
        "df_ruido_gaussiano_index = pd.Index(df_ruido_gaussiano)\n",
        "\n",
        "df_ruido_gaussiano.head()"
      ],
      "execution_count": null,
      "outputs": [
        {
          "output_type": "execute_result",
          "data": {
            "text/html": [
              "<div>\n",
              "<style scoped>\n",
              "    .dataframe tbody tr th:only-of-type {\n",
              "        vertical-align: middle;\n",
              "    }\n",
              "\n",
              "    .dataframe tbody tr th {\n",
              "        vertical-align: top;\n",
              "    }\n",
              "\n",
              "    .dataframe thead th {\n",
              "        text-align: right;\n",
              "    }\n",
              "</style>\n",
              "<table border=\"1\" class=\"dataframe\">\n",
              "  <thead>\n",
              "    <tr style=\"text-align: right;\">\n",
              "      <th></th>\n",
              "      <th>mfcc_0_mean</th>\n",
              "      <th>mfcc_1_mean</th>\n",
              "      <th>mfcc_2_mean</th>\n",
              "      <th>mfcc_3_mean</th>\n",
              "      <th>mfcc_4_mean</th>\n",
              "      <th>mfcc_5_mean</th>\n",
              "      <th>mfcc_6_mean</th>\n",
              "      <th>mfcc_7_mean</th>\n",
              "      <th>mfcc_8_mean</th>\n",
              "      <th>mfcc_9_mean</th>\n",
              "      <th>mfcc_10_mean</th>\n",
              "      <th>mfcc_11_mean</th>\n",
              "      <th>energy_mean</th>\n",
              "      <th>mfcc_0_std</th>\n",
              "      <th>mfcc_1_std</th>\n",
              "      <th>mfcc_2_std</th>\n",
              "      <th>mfcc_3_std</th>\n",
              "      <th>mfcc_4_std</th>\n",
              "      <th>mfcc_5_std</th>\n",
              "      <th>mfcc_6_std</th>\n",
              "      <th>mfcc_7_std</th>\n",
              "      <th>mfcc_8_std</th>\n",
              "      <th>mfcc_9_std</th>\n",
              "      <th>mfcc_10_std</th>\n",
              "      <th>mfcc_11_std</th>\n",
              "      <th>energy_std</th>\n",
              "      <th>dmfcc_0_mean</th>\n",
              "      <th>dmfcc_1_mean</th>\n",
              "      <th>dmfcc_2_mean</th>\n",
              "      <th>dmfcc_3_mean</th>\n",
              "      <th>dmfcc_4_mean</th>\n",
              "      <th>dmfcc_5_mean</th>\n",
              "      <th>dmfcc_6_mean</th>\n",
              "      <th>dmfcc_7_mean</th>\n",
              "      <th>dmfcc_8_mean</th>\n",
              "      <th>dmfcc_9_mean</th>\n",
              "      <th>dmfcc_10_mean</th>\n",
              "      <th>dmfcc_11_mean</th>\n",
              "      <th>denergy_mean</th>\n",
              "      <th>dmfcc_0_std</th>\n",
              "      <th>...</th>\n",
              "      <th>dmfcc_2_std</th>\n",
              "      <th>dmfcc_3_std</th>\n",
              "      <th>dmfcc_4_std</th>\n",
              "      <th>dmfcc_5_std</th>\n",
              "      <th>dmfcc_6_std</th>\n",
              "      <th>dmfcc_7_std</th>\n",
              "      <th>dmfcc_8_std</th>\n",
              "      <th>dmfcc_9_std</th>\n",
              "      <th>dmfcc_10_std</th>\n",
              "      <th>dmfcc_11_std</th>\n",
              "      <th>denergy_std</th>\n",
              "      <th>ddmfcc_0_mean</th>\n",
              "      <th>ddmfcc_1_mean</th>\n",
              "      <th>ddmfcc_2_mean</th>\n",
              "      <th>ddmfcc_3_mean</th>\n",
              "      <th>ddmfcc_4_mean</th>\n",
              "      <th>ddmfcc_5_mean</th>\n",
              "      <th>ddmfcc_6_mean</th>\n",
              "      <th>ddmfcc_7_mean</th>\n",
              "      <th>ddmfcc_8_mean</th>\n",
              "      <th>ddmfcc_9_mean</th>\n",
              "      <th>ddmfcc_10_mean</th>\n",
              "      <th>ddmfcc_11_mean</th>\n",
              "      <th>ddenergy_mean</th>\n",
              "      <th>ddmfcc_0_std</th>\n",
              "      <th>ddmfcc_1_std</th>\n",
              "      <th>ddmfcc_2_std</th>\n",
              "      <th>ddmfcc_3_std</th>\n",
              "      <th>ddmfcc_4_std</th>\n",
              "      <th>ddmfcc_5_std</th>\n",
              "      <th>ddmfcc_6_std</th>\n",
              "      <th>ddmfcc_7_std</th>\n",
              "      <th>ddmfcc_8_std</th>\n",
              "      <th>ddmfcc_9_std</th>\n",
              "      <th>ddmfcc_10_std</th>\n",
              "      <th>ddmfcc_11_std</th>\n",
              "      <th>ddenergy_std</th>\n",
              "      <th>target</th>\n",
              "      <th>filename</th>\n",
              "      <th>type</th>\n",
              "    </tr>\n",
              "  </thead>\n",
              "  <tbody>\n",
              "    <tr>\n",
              "      <th>0</th>\n",
              "      <td>-174.075716</td>\n",
              "      <td>41.844807</td>\n",
              "      <td>17.463111</td>\n",
              "      <td>10.071919</td>\n",
              "      <td>-5.187013</td>\n",
              "      <td>-5.359340</td>\n",
              "      <td>-8.533012</td>\n",
              "      <td>-10.258925</td>\n",
              "      <td>-7.183099</td>\n",
              "      <td>-11.003183</td>\n",
              "      <td>-6.981214</td>\n",
              "      <td>-2.679599</td>\n",
              "      <td>0.072916</td>\n",
              "      <td>49.841767</td>\n",
              "      <td>38.235266</td>\n",
              "      <td>14.956589</td>\n",
              "      <td>24.563090</td>\n",
              "      <td>9.106524</td>\n",
              "      <td>9.691546</td>\n",
              "      <td>6.632994</td>\n",
              "      <td>9.400091</td>\n",
              "      <td>8.636559</td>\n",
              "      <td>10.835486</td>\n",
              "      <td>9.605474</td>\n",
              "      <td>6.003190</td>\n",
              "      <td>0.062541</td>\n",
              "      <td>0.407503</td>\n",
              "      <td>0.108672</td>\n",
              "      <td>0.054477</td>\n",
              "      <td>-0.039830</td>\n",
              "      <td>0.288120</td>\n",
              "      <td>0.171018</td>\n",
              "      <td>-0.015520</td>\n",
              "      <td>0.105458</td>\n",
              "      <td>0.129377</td>\n",
              "      <td>0.095984</td>\n",
              "      <td>-0.009042</td>\n",
              "      <td>0.204925</td>\n",
              "      <td>0.000014</td>\n",
              "      <td>13.190601</td>\n",
              "      <td>...</td>\n",
              "      <td>8.552180</td>\n",
              "      <td>10.052874</td>\n",
              "      <td>4.611713</td>\n",
              "      <td>5.359056</td>\n",
              "      <td>4.227121</td>\n",
              "      <td>4.585492</td>\n",
              "      <td>5.073257</td>\n",
              "      <td>5.073996</td>\n",
              "      <td>4.107831</td>\n",
              "      <td>3.747002</td>\n",
              "      <td>0.015262</td>\n",
              "      <td>-0.334580</td>\n",
              "      <td>-0.106681</td>\n",
              "      <td>0.007459</td>\n",
              "      <td>0.064310</td>\n",
              "      <td>0.076589</td>\n",
              "      <td>-0.304223</td>\n",
              "      <td>-0.066232</td>\n",
              "      <td>0.056327</td>\n",
              "      <td>-0.004076</td>\n",
              "      <td>-0.157969</td>\n",
              "      <td>0.019774</td>\n",
              "      <td>-0.010747</td>\n",
              "      <td>-3.990151e-06</td>\n",
              "      <td>11.590923</td>\n",
              "      <td>7.607215</td>\n",
              "      <td>8.964826</td>\n",
              "      <td>7.705209</td>\n",
              "      <td>4.507725</td>\n",
              "      <td>6.333088</td>\n",
              "      <td>5.218690</td>\n",
              "      <td>5.396834</td>\n",
              "      <td>6.285350</td>\n",
              "      <td>6.191852</td>\n",
              "      <td>4.795314</td>\n",
              "      <td>5.073644</td>\n",
              "      <td>0.008826</td>\n",
              "      <td>0</td>\n",
              "      <td>speechcommands/zero/b49caed3_nohash_2.wav</td>\n",
              "      <td>testing</td>\n",
              "    </tr>\n",
              "    <tr>\n",
              "      <th>1</th>\n",
              "      <td>-169.598177</td>\n",
              "      <td>28.422459</td>\n",
              "      <td>-0.403664</td>\n",
              "      <td>5.808889</td>\n",
              "      <td>-3.813839</td>\n",
              "      <td>-10.051776</td>\n",
              "      <td>-5.853915</td>\n",
              "      <td>0.568369</td>\n",
              "      <td>-1.818283</td>\n",
              "      <td>-8.031500</td>\n",
              "      <td>-4.686170</td>\n",
              "      <td>-0.624635</td>\n",
              "      <td>0.079657</td>\n",
              "      <td>49.984332</td>\n",
              "      <td>31.477898</td>\n",
              "      <td>23.005839</td>\n",
              "      <td>18.832397</td>\n",
              "      <td>16.418858</td>\n",
              "      <td>12.554665</td>\n",
              "      <td>11.197003</td>\n",
              "      <td>5.544304</td>\n",
              "      <td>8.647829</td>\n",
              "      <td>7.242653</td>\n",
              "      <td>7.008711</td>\n",
              "      <td>5.026672</td>\n",
              "      <td>0.064204</td>\n",
              "      <td>0.207108</td>\n",
              "      <td>-0.047140</td>\n",
              "      <td>0.050662</td>\n",
              "      <td>0.022778</td>\n",
              "      <td>-0.271470</td>\n",
              "      <td>0.095882</td>\n",
              "      <td>-0.118973</td>\n",
              "      <td>-0.291004</td>\n",
              "      <td>0.140211</td>\n",
              "      <td>-0.096711</td>\n",
              "      <td>-0.041261</td>\n",
              "      <td>-0.225630</td>\n",
              "      <td>0.000063</td>\n",
              "      <td>14.375274</td>\n",
              "      <td>...</td>\n",
              "      <td>11.825906</td>\n",
              "      <td>9.586761</td>\n",
              "      <td>10.064854</td>\n",
              "      <td>5.882552</td>\n",
              "      <td>4.101097</td>\n",
              "      <td>3.342230</td>\n",
              "      <td>5.678517</td>\n",
              "      <td>5.131530</td>\n",
              "      <td>5.256777</td>\n",
              "      <td>4.407512</td>\n",
              "      <td>0.016869</td>\n",
              "      <td>-0.243855</td>\n",
              "      <td>-0.143223</td>\n",
              "      <td>0.111391</td>\n",
              "      <td>0.140765</td>\n",
              "      <td>-0.120013</td>\n",
              "      <td>-0.236786</td>\n",
              "      <td>-0.138507</td>\n",
              "      <td>0.156020</td>\n",
              "      <td>0.167725</td>\n",
              "      <td>0.119610</td>\n",
              "      <td>-0.006231</td>\n",
              "      <td>0.152915</td>\n",
              "      <td>-8.555028e-07</td>\n",
              "      <td>10.765270</td>\n",
              "      <td>14.638243</td>\n",
              "      <td>11.118448</td>\n",
              "      <td>9.293554</td>\n",
              "      <td>7.927246</td>\n",
              "      <td>6.719861</td>\n",
              "      <td>3.783157</td>\n",
              "      <td>4.372199</td>\n",
              "      <td>6.348371</td>\n",
              "      <td>6.214816</td>\n",
              "      <td>6.111810</td>\n",
              "      <td>5.518065</td>\n",
              "      <td>0.011241</td>\n",
              "      <td>0</td>\n",
              "      <td>speechcommands/zero/692a88e6_nohash_1.wav</td>\n",
              "      <td>testing</td>\n",
              "    </tr>\n",
              "    <tr>\n",
              "      <th>2</th>\n",
              "      <td>-177.403256</td>\n",
              "      <td>38.484463</td>\n",
              "      <td>15.321739</td>\n",
              "      <td>10.198242</td>\n",
              "      <td>7.184030</td>\n",
              "      <td>2.716945</td>\n",
              "      <td>-3.612466</td>\n",
              "      <td>-0.535526</td>\n",
              "      <td>-5.236866</td>\n",
              "      <td>-3.652774</td>\n",
              "      <td>0.917914</td>\n",
              "      <td>4.236562</td>\n",
              "      <td>0.050030</td>\n",
              "      <td>46.084851</td>\n",
              "      <td>34.951367</td>\n",
              "      <td>13.386557</td>\n",
              "      <td>16.205566</td>\n",
              "      <td>8.620254</td>\n",
              "      <td>10.326468</td>\n",
              "      <td>12.503783</td>\n",
              "      <td>12.749181</td>\n",
              "      <td>9.285499</td>\n",
              "      <td>7.849636</td>\n",
              "      <td>7.931860</td>\n",
              "      <td>5.599593</td>\n",
              "      <td>0.038141</td>\n",
              "      <td>0.240767</td>\n",
              "      <td>0.442802</td>\n",
              "      <td>0.035033</td>\n",
              "      <td>-0.061998</td>\n",
              "      <td>-0.033411</td>\n",
              "      <td>0.087932</td>\n",
              "      <td>0.234739</td>\n",
              "      <td>-0.097756</td>\n",
              "      <td>0.026396</td>\n",
              "      <td>-0.309874</td>\n",
              "      <td>-0.109711</td>\n",
              "      <td>-0.165514</td>\n",
              "      <td>-0.000004</td>\n",
              "      <td>13.106443</td>\n",
              "      <td>...</td>\n",
              "      <td>9.012376</td>\n",
              "      <td>9.183590</td>\n",
              "      <td>5.941616</td>\n",
              "      <td>5.671354</td>\n",
              "      <td>5.804888</td>\n",
              "      <td>6.257966</td>\n",
              "      <td>4.586550</td>\n",
              "      <td>4.906105</td>\n",
              "      <td>4.187475</td>\n",
              "      <td>3.862474</td>\n",
              "      <td>0.008900</td>\n",
              "      <td>-0.431453</td>\n",
              "      <td>-0.158280</td>\n",
              "      <td>0.212671</td>\n",
              "      <td>0.052260</td>\n",
              "      <td>-0.068991</td>\n",
              "      <td>-0.061159</td>\n",
              "      <td>0.144227</td>\n",
              "      <td>0.286337</td>\n",
              "      <td>0.160756</td>\n",
              "      <td>0.190191</td>\n",
              "      <td>0.086306</td>\n",
              "      <td>-0.235498</td>\n",
              "      <td>-8.728384e-06</td>\n",
              "      <td>10.283904</td>\n",
              "      <td>10.326768</td>\n",
              "      <td>8.690379</td>\n",
              "      <td>9.142140</td>\n",
              "      <td>7.309051</td>\n",
              "      <td>5.385773</td>\n",
              "      <td>6.705637</td>\n",
              "      <td>6.527564</td>\n",
              "      <td>5.093358</td>\n",
              "      <td>5.685013</td>\n",
              "      <td>4.320283</td>\n",
              "      <td>4.915650</td>\n",
              "      <td>0.004703</td>\n",
              "      <td>0</td>\n",
              "      <td>speechcommands/zero/0fa1e7a9_nohash_0.wav</td>\n",
              "      <td>testing</td>\n",
              "    </tr>\n",
              "    <tr>\n",
              "      <th>3</th>\n",
              "      <td>-211.780761</td>\n",
              "      <td>18.170034</td>\n",
              "      <td>10.575717</td>\n",
              "      <td>7.080615</td>\n",
              "      <td>4.549054</td>\n",
              "      <td>-1.692948</td>\n",
              "      <td>-6.724867</td>\n",
              "      <td>-7.305584</td>\n",
              "      <td>-6.517397</td>\n",
              "      <td>-6.495293</td>\n",
              "      <td>-5.910421</td>\n",
              "      <td>-3.303720</td>\n",
              "      <td>0.019635</td>\n",
              "      <td>24.851172</td>\n",
              "      <td>20.905131</td>\n",
              "      <td>9.230220</td>\n",
              "      <td>10.496262</td>\n",
              "      <td>9.338551</td>\n",
              "      <td>5.469205</td>\n",
              "      <td>9.648075</td>\n",
              "      <td>9.723822</td>\n",
              "      <td>6.648126</td>\n",
              "      <td>7.493551</td>\n",
              "      <td>7.571265</td>\n",
              "      <td>4.664169</td>\n",
              "      <td>0.014396</td>\n",
              "      <td>0.032213</td>\n",
              "      <td>0.216121</td>\n",
              "      <td>0.368943</td>\n",
              "      <td>0.386044</td>\n",
              "      <td>0.614128</td>\n",
              "      <td>0.343658</td>\n",
              "      <td>0.463551</td>\n",
              "      <td>0.530409</td>\n",
              "      <td>0.443199</td>\n",
              "      <td>0.322244</td>\n",
              "      <td>-0.023277</td>\n",
              "      <td>-0.017712</td>\n",
              "      <td>0.000106</td>\n",
              "      <td>7.998691</td>\n",
              "      <td>...</td>\n",
              "      <td>5.824456</td>\n",
              "      <td>5.931848</td>\n",
              "      <td>6.009548</td>\n",
              "      <td>4.803097</td>\n",
              "      <td>4.545984</td>\n",
              "      <td>4.633726</td>\n",
              "      <td>4.574267</td>\n",
              "      <td>3.760280</td>\n",
              "      <td>4.165727</td>\n",
              "      <td>4.286740</td>\n",
              "      <td>0.005213</td>\n",
              "      <td>-0.584694</td>\n",
              "      <td>-0.255788</td>\n",
              "      <td>0.193092</td>\n",
              "      <td>-0.157318</td>\n",
              "      <td>-0.172405</td>\n",
              "      <td>-0.180221</td>\n",
              "      <td>0.102794</td>\n",
              "      <td>0.121901</td>\n",
              "      <td>0.218820</td>\n",
              "      <td>0.166453</td>\n",
              "      <td>0.062475</td>\n",
              "      <td>0.143062</td>\n",
              "      <td>-3.149213e-05</td>\n",
              "      <td>6.890139</td>\n",
              "      <td>6.621045</td>\n",
              "      <td>6.850180</td>\n",
              "      <td>5.906262</td>\n",
              "      <td>6.312557</td>\n",
              "      <td>6.046224</td>\n",
              "      <td>4.510030</td>\n",
              "      <td>4.151903</td>\n",
              "      <td>5.590930</td>\n",
              "      <td>4.404979</td>\n",
              "      <td>4.682976</td>\n",
              "      <td>5.128951</td>\n",
              "      <td>0.003135</td>\n",
              "      <td>0</td>\n",
              "      <td>speechcommands/zero/5c8af87a_nohash_4.wav</td>\n",
              "      <td>testing</td>\n",
              "    </tr>\n",
              "    <tr>\n",
              "      <th>4</th>\n",
              "      <td>-158.191765</td>\n",
              "      <td>56.800684</td>\n",
              "      <td>5.855252</td>\n",
              "      <td>4.325536</td>\n",
              "      <td>6.105161</td>\n",
              "      <td>-7.704795</td>\n",
              "      <td>-10.001173</td>\n",
              "      <td>-4.343183</td>\n",
              "      <td>-4.184836</td>\n",
              "      <td>-0.910089</td>\n",
              "      <td>2.022773</td>\n",
              "      <td>-1.447376</td>\n",
              "      <td>0.102017</td>\n",
              "      <td>61.240684</td>\n",
              "      <td>41.411642</td>\n",
              "      <td>20.827612</td>\n",
              "      <td>21.509203</td>\n",
              "      <td>11.303311</td>\n",
              "      <td>17.736434</td>\n",
              "      <td>19.375612</td>\n",
              "      <td>11.049991</td>\n",
              "      <td>8.190359</td>\n",
              "      <td>10.403038</td>\n",
              "      <td>10.561315</td>\n",
              "      <td>6.752316</td>\n",
              "      <td>0.089793</td>\n",
              "      <td>-0.265230</td>\n",
              "      <td>-0.684927</td>\n",
              "      <td>-0.441628</td>\n",
              "      <td>-0.102660</td>\n",
              "      <td>0.113572</td>\n",
              "      <td>-0.241131</td>\n",
              "      <td>-0.225631</td>\n",
              "      <td>-0.078151</td>\n",
              "      <td>0.085338</td>\n",
              "      <td>0.113082</td>\n",
              "      <td>0.042843</td>\n",
              "      <td>0.317478</td>\n",
              "      <td>-0.000278</td>\n",
              "      <td>15.345629</td>\n",
              "      <td>...</td>\n",
              "      <td>9.703233</td>\n",
              "      <td>9.796737</td>\n",
              "      <td>5.739004</td>\n",
              "      <td>8.886607</td>\n",
              "      <td>5.382054</td>\n",
              "      <td>5.417902</td>\n",
              "      <td>4.634119</td>\n",
              "      <td>5.137058</td>\n",
              "      <td>4.696306</td>\n",
              "      <td>3.960329</td>\n",
              "      <td>0.020952</td>\n",
              "      <td>-0.510972</td>\n",
              "      <td>-0.261826</td>\n",
              "      <td>-0.186883</td>\n",
              "      <td>-0.348068</td>\n",
              "      <td>-0.310022</td>\n",
              "      <td>-0.119813</td>\n",
              "      <td>0.092281</td>\n",
              "      <td>0.063377</td>\n",
              "      <td>0.180843</td>\n",
              "      <td>0.175770</td>\n",
              "      <td>0.025049</td>\n",
              "      <td>0.031958</td>\n",
              "      <td>-5.044563e-05</td>\n",
              "      <td>11.116171</td>\n",
              "      <td>9.851366</td>\n",
              "      <td>9.067059</td>\n",
              "      <td>8.767599</td>\n",
              "      <td>5.947940</td>\n",
              "      <td>8.218215</td>\n",
              "      <td>4.509443</td>\n",
              "      <td>5.589844</td>\n",
              "      <td>4.574336</td>\n",
              "      <td>5.223370</td>\n",
              "      <td>5.152163</td>\n",
              "      <td>5.538581</td>\n",
              "      <td>0.010280</td>\n",
              "      <td>0</td>\n",
              "      <td>speechcommands/zero/aef8dcf5_nohash_0.wav</td>\n",
              "      <td>testing</td>\n",
              "    </tr>\n",
              "  </tbody>\n",
              "</table>\n",
              "<p>5 rows × 81 columns</p>\n",
              "</div>"
            ],
            "text/plain": [
              "   mfcc_0_mean  mfcc_1_mean  ...                                   filename     type\n",
              "0  -174.075716    41.844807  ...  speechcommands/zero/b49caed3_nohash_2.wav  testing\n",
              "1  -169.598177    28.422459  ...  speechcommands/zero/692a88e6_nohash_1.wav  testing\n",
              "2  -177.403256    38.484463  ...  speechcommands/zero/0fa1e7a9_nohash_0.wav  testing\n",
              "3  -211.780761    18.170034  ...  speechcommands/zero/5c8af87a_nohash_4.wav  testing\n",
              "4  -158.191765    56.800684  ...  speechcommands/zero/aef8dcf5_nohash_0.wav  testing\n",
              "\n",
              "[5 rows x 81 columns]"
            ]
          },
          "metadata": {
            "tags": []
          },
          "execution_count": 46
        }
      ]
    },
    {
      "cell_type": "markdown",
      "metadata": {
        "id": "EOhsEnKu7JEq",
        "colab_type": "text"
      },
      "source": [
        "###Correr modelos optimizados en testing con ruido gaussiano\n"
      ]
    },
    {
      "cell_type": "code",
      "metadata": {
        "id": "eYCK3tc6m05Q",
        "colab_type": "code",
        "colab": {}
      },
      "source": [
        "# defino los datasets\n",
        "Xga, yga = df_ruido_gaussiano.iloc[:,1:78], df_ruido_gaussiano.iloc[:,78]"
      ],
      "execution_count": null,
      "outputs": []
    },
    {
      "cell_type": "markdown",
      "metadata": {
        "id": "H8gsDXSZmrlt",
        "colab_type": "text"
      },
      "source": [
        "\n",
        "#### Naive Bayes"
      ]
    },
    {
      "cell_type": "code",
      "metadata": {
        "id": "6tYZCAtjjDXR",
        "colab_type": "code",
        "colab": {
          "base_uri": "https://localhost:8080/",
          "height": 869
        },
        "outputId": "c120ca61-1bf2-47c6-b020-6cf65a6f9228"
      },
      "source": [
        "#Evaluo sobre el dataset de testing\n",
        "y_pred_gnb_gaussiano = gnb.predict(Xga)\n",
        "gnb_score_gaussiano = metric(yga,y_pred_gnb_gaussiano)\n",
        "\n",
        "# matriz de confusion\n",
        "fig, ax = plt.subplots(figsize=(10, 10))\n",
        "plot_confusion_matrix(gnb, Xga, yga, ax=ax, values_format=\"d\")\n",
        "\n",
        "# resporte de metricas por clase\n",
        "print(classification_report(yga, y_pred_gnb_gaussiano))"
      ],
      "execution_count": null,
      "outputs": [
        {
          "output_type": "stream",
          "text": [
            "              precision    recall  f1-score   support\n",
            "\n",
            "           0       0.57      0.02      0.03       250\n",
            "           1       0.45      0.16      0.23       248\n",
            "           2       0.13      0.89      0.22       264\n",
            "           3       0.33      0.01      0.02       267\n",
            "           4       0.34      0.28      0.31       253\n",
            "           5       0.66      0.19      0.30       271\n",
            "           6       1.00      0.03      0.06       244\n",
            "           7       0.56      0.02      0.04       239\n",
            "           8       0.26      0.27      0.27       257\n",
            "           9       1.00      0.01      0.02       259\n",
            "\n",
            "    accuracy                           0.19      2552\n",
            "   macro avg       0.53      0.19      0.15      2552\n",
            "weighted avg       0.53      0.19      0.15      2552\n",
            "\n"
          ],
          "name": "stdout"
        },
        {
          "output_type": "display_data",
          "data": {
            "image/png": "[encoded data removed]",
            "text/plain": [
              "<Figure size 720x720 with 2 Axes>"
            ]
          },
          "metadata": {
            "tags": [],
            "needs_background": "light"
          }
        }
      ]
    },
    {
      "cell_type": "markdown",
      "metadata": {
        "id": "8UN6-StvmwXF",
        "colab_type": "text"
      },
      "source": [
        "#### Random Forest"
      ]
    },
    {
      "cell_type": "code",
      "metadata": {
        "id": "-7zOwaWhmwER",
        "colab_type": "code",
        "colab": {
          "base_uri": "https://localhost:8080/",
          "height": 869
        },
        "outputId": "35b39ff2-2dbe-4538-edc3-14e9b6629cd2"
      },
      "source": [
        "# matriz de confusion\n",
        "fig, ax = plt.subplots(figsize=(10, 10))\n",
        "plot_confusion_matrix(rfc, Xga, yga, ax=ax, values_format=\"d\")\n",
        "\n",
        "#Evaluo sobre el dataset de testing\n",
        "y_pred_rfc_gaussiano = rfc.predict(Xga)\n",
        "rfc_score_gaussiano = metric(yga,y_pred_rfc_gaussiano)\n",
        "\n",
        "# resporte de metricas por clase\n",
        "print(classification_report(yga, y_pred_rfc_gaussiano))"
      ],
      "execution_count": null,
      "outputs": [
        {
          "output_type": "stream",
          "text": [
            "              precision    recall  f1-score   support\n",
            "\n",
            "           0       0.46      0.32      0.38       250\n",
            "           1       0.51      0.47      0.49       248\n",
            "           2       0.29      0.40      0.34       264\n",
            "           3       0.36      0.09      0.15       267\n",
            "           4       0.44      0.66      0.53       253\n",
            "           5       0.95      0.21      0.34       271\n",
            "           6       0.24      0.66      0.36       244\n",
            "           7       0.61      0.32      0.42       239\n",
            "           8       0.49      0.54      0.51       257\n",
            "           9       0.44      0.36      0.39       259\n",
            "\n",
            "    accuracy                           0.40      2552\n",
            "   macro avg       0.48      0.40      0.39      2552\n",
            "weighted avg       0.48      0.40      0.39      2552\n",
            "\n"
          ],
          "name": "stdout"
        },
        {
          "output_type": "display_data",
          "data": {
            "image/png": "[encoded data removed]",
            "text/plain": [
              "<Figure size 720x720 with 2 Axes>"
            ]
          },
          "metadata": {
            "tags": [],
            "needs_background": "light"
          }
        }
      ]
    },
    {
      "cell_type": "markdown",
      "metadata": {
        "id": "SnmNFJ20oxi7",
        "colab_type": "text"
      },
      "source": [
        "#### Gradient Boosting Classifier"
      ]
    },
    {
      "cell_type": "code",
      "metadata": {
        "id": "NSs0YAX0oxRw",
        "colab_type": "code",
        "colab": {
          "base_uri": "https://localhost:8080/",
          "height": 869
        },
        "outputId": "5648f239-e6cf-44b0-fae7-48c90fd2bf3e"
      },
      "source": [
        "# matriz de confusion\n",
        "fig, ax = plt.subplots(figsize=(10, 10))\n",
        "plot_confusion_matrix(gbc, Xga, yga, ax=ax, values_format=\"d\")\n",
        "\n",
        "#Evaluo sobre el dataset de testing\n",
        "y_pred_gbc_gaussiano = gbc.predict(Xga)\n",
        "gbc_score_gaussiano = metric(yga,y_pred_gbc_gaussiano)\n",
        "\n",
        "# resporte de metricas por clase\n",
        "print(classification_report(yga, y_pred_gbc_gaussiano))"
      ],
      "execution_count": null,
      "outputs": [
        {
          "output_type": "stream",
          "text": [
            "              precision    recall  f1-score   support\n",
            "\n",
            "           0       0.45      0.40      0.42       250\n",
            "           1       0.54      0.57      0.56       248\n",
            "           2       0.32      0.40      0.36       264\n",
            "           3       0.50      0.19      0.28       267\n",
            "           4       0.44      0.62      0.52       253\n",
            "           5       0.59      0.36      0.44       271\n",
            "           6       0.31      0.60      0.41       244\n",
            "           7       0.34      0.45      0.39       239\n",
            "           8       0.63      0.51      0.56       257\n",
            "           9       0.70      0.33      0.45       259\n",
            "\n",
            "    accuracy                           0.44      2552\n",
            "   macro avg       0.48      0.44      0.44      2552\n",
            "weighted avg       0.48      0.44      0.44      2552\n",
            "\n"
          ],
          "name": "stdout"
        },
        {
          "output_type": "display_data",
          "data": {
            "image/png": "[encoded data removed]",
            "text/plain": [
              "<Figure size 720x720 with 2 Axes>"
            ]
          },
          "metadata": {
            "tags": [],
            "needs_background": "light"
          }
        }
      ]
    },
    {
      "cell_type": "markdown",
      "metadata": {
        "id": "Jba6Arpz-337",
        "colab_type": "text"
      },
      "source": [
        "##Agregamos ruido ambiente (dishes)"
      ]
    },
    {
      "cell_type": "code",
      "metadata": {
        "id": "2Xa7zaA0-9n6",
        "colab_type": "code",
        "colab": {}
      },
      "source": [
        "#@title Nivel de ruido ambiente\n",
        "nivel_de_ruido_ambiente = 0.1 #@param {type:\"slider\", min:0, max:3, step:0.1}"
      ],
      "execution_count": null,
      "outputs": []
    },
    {
      "cell_type": "code",
      "metadata": {
        "id": "Yrg_V4PE_H9R",
        "colab_type": "code",
        "colab": {}
      },
      "source": [
        "# Función que agrega ruido ambiente y extrae valores desde una observación \n",
        "\n",
        "def calculate_features_with_noise_ambient(filename,n_mfcc=12,delta=True,deltadelta=True,energy=True, summary_fn = [np.mean, np.std], summary_names=['mean','std']):\n",
        "  #Abro el archivo:\n",
        "  x, sr = librosa.core.load(filename, sr=None)\n",
        "  \n",
        "  #Ruido ambiente al 10%\n",
        "  ruido_audio, sr = librosa.core.load('speechcommands/_background_noise_/doing_the_dishes.wav', sr=None)\n",
        "  ruido_audio = ruido_audio[5000:5000+len(x)] #Lo recorto para que tenga la longitud del audio\n",
        "  x = x + nivel_de_ruido_ambiente*ruido_audio\n",
        "  \n",
        "  #Calculo MFCCs\n",
        "  features = librosa.feature.mfcc(x,sr=sr,n_mfcc=n_mfcc)\n",
        "  feat_names = ['mfcc_{}'.format(i) for i in range(n_mfcc)]\n",
        "  #Calculo energia:\n",
        "  if energy:\n",
        "    energy = librosa.feature.rmse(x)\n",
        "    features = np.concatenate([features,energy])\n",
        "    feat_names = feat_names + ['energy']\n",
        "  #Aplico media y desvio estandar por defecto\n",
        "  summary_features = np.concatenate([fn(features,axis=1) for fn in summary_fn])\n",
        "  feat_names = ['{}_{}'.format(name_i,summ_i) for summ_i in summary_names for name_i in feat_names]\n",
        "  \n",
        "  #Lo mismo con los delta\n",
        "  if delta:\n",
        "    deltafeatures = np.diff(features)\n",
        "    summary_features = np.concatenate([summary_features,np.concatenate([fn(deltafeatures,axis=1) for fn in summary_fn])])\n",
        "    d_names = ['d{}'.format(name) for name in feat_names]\n",
        "  else:\n",
        "    d_names = []\n",
        "\n",
        "  #Y con los delta de segundo orden\n",
        "  if deltadelta:\n",
        "    deltadeltafeatures = np.diff(features,n=2)\n",
        "    summary_features = np.concatenate([summary_features,np.concatenate([fn(deltadeltafeatures,axis=1) for fn in summary_fn])]) \n",
        "    dd_names = ['dd{}'.format(name) for name in feat_names]\n",
        "  else:\n",
        "    dd_names = []\n",
        "\n",
        "  feat_names = feat_names + d_names + dd_names\n",
        "  \n",
        "  return summary_features, feat_names   \n",
        "\n",
        "# funciones soporte\n",
        "\n",
        "def generate_ambient_df(lista_testing_noise_ambient):\n",
        "  data = []\n",
        "  columns = []\n",
        "\n",
        "  for num_key, num_value  in NUMBERS.items():\n",
        "    wavs = glob.glob('speechcommands/{0}/*.wav'.format(num_key))\n",
        "    for path in wavs:\n",
        "      if path in lista_testing:\n",
        "        feature, names = calculate_features_with_noise_ambient(path)\n",
        "        type = 'testing' \n",
        "        data.append(np.append(feature, [num_value, path, type]))\n",
        "        columns = names + ['target', 'filename', 'type']\n",
        "\n",
        "  dataset_con_ruido_ambiente = pd.DataFrame(data, columns = columns)\n",
        "  return dataset_con_ruido_ambiente\n"
      ],
      "execution_count": null,
      "outputs": []
    },
    {
      "cell_type": "code",
      "metadata": {
        "id": "iLMNyDXQ_0r7",
        "colab_type": "code",
        "colab": {}
      },
      "source": [
        "if run_full:\n",
        "  #Calculamos valores y generamos un dataset de los audios con ruido ambiente\n",
        "  lista_testing_noise_ambient = get_partition('speechcommands/testing_list.txt')\n",
        "  df = generate_ambient_df(lista_testing_noise_ambient)\n",
        "  print(df.shape)\n",
        "  df.to_csv('/content/speech_dataset_noise_ambient.csv', header=True, index=True) \n",
        "else:\n",
        "  #Descargar el dataset creado\n",
        "  url = 'https://raw.githubusercontent.com/dikaoru/csv-aa/master/speech_dataset_noise_ambient.csv'\n",
        "  df_ruido_ambiente = pd.read_csv(url, index_col = 0)"
      ],
      "execution_count": null,
      "outputs": []
    },
    {
      "cell_type": "code",
      "metadata": {
        "id": "ErMGo3N5ACDx",
        "colab_type": "code",
        "colab": {
          "base_uri": "https://localhost:8080/",
          "height": 270
        },
        "outputId": "c9e0ae14-305b-46a9-b66f-dbc1dba495db"
      },
      "source": [
        "# #Leer el dataset creado\n",
        "print(df_ruido_ambiente.shape)\n",
        "\n",
        "df_ruido_ambiente.head()"
      ],
      "execution_count": null,
      "outputs": [
        {
          "output_type": "stream",
          "text": [
            "(2552, 81)\n"
          ],
          "name": "stdout"
        },
        {
          "output_type": "execute_result",
          "data": {
            "text/html": [
              "<div>\n",
              "<style scoped>\n",
              "    .dataframe tbody tr th:only-of-type {\n",
              "        vertical-align: middle;\n",
              "    }\n",
              "\n",
              "    .dataframe tbody tr th {\n",
              "        vertical-align: top;\n",
              "    }\n",
              "\n",
              "    .dataframe thead th {\n",
              "        text-align: right;\n",
              "    }\n",
              "</style>\n",
              "<table border=\"1\" class=\"dataframe\">\n",
              "  <thead>\n",
              "    <tr style=\"text-align: right;\">\n",
              "      <th></th>\n",
              "      <th>mfcc_0_mean</th>\n",
              "      <th>mfcc_1_mean</th>\n",
              "      <th>mfcc_2_mean</th>\n",
              "      <th>mfcc_3_mean</th>\n",
              "      <th>mfcc_4_mean</th>\n",
              "      <th>mfcc_5_mean</th>\n",
              "      <th>mfcc_6_mean</th>\n",
              "      <th>mfcc_7_mean</th>\n",
              "      <th>mfcc_8_mean</th>\n",
              "      <th>mfcc_9_mean</th>\n",
              "      <th>mfcc_10_mean</th>\n",
              "      <th>mfcc_11_mean</th>\n",
              "      <th>energy_mean</th>\n",
              "      <th>mfcc_0_std</th>\n",
              "      <th>mfcc_1_std</th>\n",
              "      <th>mfcc_2_std</th>\n",
              "      <th>mfcc_3_std</th>\n",
              "      <th>mfcc_4_std</th>\n",
              "      <th>mfcc_5_std</th>\n",
              "      <th>mfcc_6_std</th>\n",
              "      <th>mfcc_7_std</th>\n",
              "      <th>mfcc_8_std</th>\n",
              "      <th>mfcc_9_std</th>\n",
              "      <th>mfcc_10_std</th>\n",
              "      <th>mfcc_11_std</th>\n",
              "      <th>energy_std</th>\n",
              "      <th>dmfcc_0_mean</th>\n",
              "      <th>dmfcc_1_mean</th>\n",
              "      <th>dmfcc_2_mean</th>\n",
              "      <th>dmfcc_3_mean</th>\n",
              "      <th>dmfcc_4_mean</th>\n",
              "      <th>dmfcc_5_mean</th>\n",
              "      <th>dmfcc_6_mean</th>\n",
              "      <th>dmfcc_7_mean</th>\n",
              "      <th>dmfcc_8_mean</th>\n",
              "      <th>dmfcc_9_mean</th>\n",
              "      <th>dmfcc_10_mean</th>\n",
              "      <th>dmfcc_11_mean</th>\n",
              "      <th>denergy_mean</th>\n",
              "      <th>dmfcc_0_std</th>\n",
              "      <th>...</th>\n",
              "      <th>dmfcc_2_std</th>\n",
              "      <th>dmfcc_3_std</th>\n",
              "      <th>dmfcc_4_std</th>\n",
              "      <th>dmfcc_5_std</th>\n",
              "      <th>dmfcc_6_std</th>\n",
              "      <th>dmfcc_7_std</th>\n",
              "      <th>dmfcc_8_std</th>\n",
              "      <th>dmfcc_9_std</th>\n",
              "      <th>dmfcc_10_std</th>\n",
              "      <th>dmfcc_11_std</th>\n",
              "      <th>denergy_std</th>\n",
              "      <th>ddmfcc_0_mean</th>\n",
              "      <th>ddmfcc_1_mean</th>\n",
              "      <th>ddmfcc_2_mean</th>\n",
              "      <th>ddmfcc_3_mean</th>\n",
              "      <th>ddmfcc_4_mean</th>\n",
              "      <th>ddmfcc_5_mean</th>\n",
              "      <th>ddmfcc_6_mean</th>\n",
              "      <th>ddmfcc_7_mean</th>\n",
              "      <th>ddmfcc_8_mean</th>\n",
              "      <th>ddmfcc_9_mean</th>\n",
              "      <th>ddmfcc_10_mean</th>\n",
              "      <th>ddmfcc_11_mean</th>\n",
              "      <th>ddenergy_mean</th>\n",
              "      <th>ddmfcc_0_std</th>\n",
              "      <th>ddmfcc_1_std</th>\n",
              "      <th>ddmfcc_2_std</th>\n",
              "      <th>ddmfcc_3_std</th>\n",
              "      <th>ddmfcc_4_std</th>\n",
              "      <th>ddmfcc_5_std</th>\n",
              "      <th>ddmfcc_6_std</th>\n",
              "      <th>ddmfcc_7_std</th>\n",
              "      <th>ddmfcc_8_std</th>\n",
              "      <th>ddmfcc_9_std</th>\n",
              "      <th>ddmfcc_10_std</th>\n",
              "      <th>ddmfcc_11_std</th>\n",
              "      <th>ddenergy_std</th>\n",
              "      <th>target</th>\n",
              "      <th>filename</th>\n",
              "      <th>type</th>\n",
              "    </tr>\n",
              "  </thead>\n",
              "  <tbody>\n",
              "    <tr>\n",
              "      <th>0</th>\n",
              "      <td>-231.160964</td>\n",
              "      <td>102.122939</td>\n",
              "      <td>8.799892</td>\n",
              "      <td>36.892218</td>\n",
              "      <td>26.490501</td>\n",
              "      <td>17.282831</td>\n",
              "      <td>-2.079858</td>\n",
              "      <td>4.885514</td>\n",
              "      <td>2.365780</td>\n",
              "      <td>15.360709</td>\n",
              "      <td>7.435339</td>\n",
              "      <td>7.453295</td>\n",
              "      <td>0.076850</td>\n",
              "      <td>73.643781</td>\n",
              "      <td>26.251786</td>\n",
              "      <td>32.794552</td>\n",
              "      <td>16.467708</td>\n",
              "      <td>12.895494</td>\n",
              "      <td>12.070532</td>\n",
              "      <td>19.121112</td>\n",
              "      <td>11.065903</td>\n",
              "      <td>11.199898</td>\n",
              "      <td>9.468020</td>\n",
              "      <td>6.922144</td>\n",
              "      <td>8.734191</td>\n",
              "      <td>0.040098</td>\n",
              "      <td>-0.004909</td>\n",
              "      <td>0.118330</td>\n",
              "      <td>0.294979</td>\n",
              "      <td>-0.072731</td>\n",
              "      <td>0.254492</td>\n",
              "      <td>0.187779</td>\n",
              "      <td>0.024624</td>\n",
              "      <td>0.208025</td>\n",
              "      <td>0.269120</td>\n",
              "      <td>0.172212</td>\n",
              "      <td>0.104019</td>\n",
              "      <td>0.015619</td>\n",
              "      <td>0.000673</td>\n",
              "      <td>23.277370</td>\n",
              "      <td>...</td>\n",
              "      <td>15.024792</td>\n",
              "      <td>10.666570</td>\n",
              "      <td>9.585200</td>\n",
              "      <td>5.618375</td>\n",
              "      <td>7.925637</td>\n",
              "      <td>5.346674</td>\n",
              "      <td>7.456145</td>\n",
              "      <td>5.625217</td>\n",
              "      <td>5.344804</td>\n",
              "      <td>5.759164</td>\n",
              "      <td>0.011106</td>\n",
              "      <td>-0.397316</td>\n",
              "      <td>-0.190076</td>\n",
              "      <td>0.186059</td>\n",
              "      <td>-0.027932</td>\n",
              "      <td>-0.162521</td>\n",
              "      <td>0.009647</td>\n",
              "      <td>-0.037852</td>\n",
              "      <td>-0.171478</td>\n",
              "      <td>-0.132427</td>\n",
              "      <td>-0.228126</td>\n",
              "      <td>-0.255542</td>\n",
              "      <td>-0.050190</td>\n",
              "      <td>-0.000223</td>\n",
              "      <td>18.755972</td>\n",
              "      <td>7.583290</td>\n",
              "      <td>13.529903</td>\n",
              "      <td>10.652272</td>\n",
              "      <td>10.149718</td>\n",
              "      <td>5.921200</td>\n",
              "      <td>6.136916</td>\n",
              "      <td>5.557097</td>\n",
              "      <td>7.753866</td>\n",
              "      <td>5.974421</td>\n",
              "      <td>7.183054</td>\n",
              "      <td>6.593419</td>\n",
              "      <td>0.008248</td>\n",
              "      <td>0</td>\n",
              "      <td>speechcommands/zero/6021f08b_nohash_0.wav</td>\n",
              "      <td>testing</td>\n",
              "    </tr>\n",
              "    <tr>\n",
              "      <th>1</th>\n",
              "      <td>-226.632715</td>\n",
              "      <td>72.906819</td>\n",
              "      <td>-12.983918</td>\n",
              "      <td>27.665616</td>\n",
              "      <td>2.163799</td>\n",
              "      <td>-6.361834</td>\n",
              "      <td>-13.362360</td>\n",
              "      <td>5.335331</td>\n",
              "      <td>-1.876942</td>\n",
              "      <td>0.267176</td>\n",
              "      <td>1.625088</td>\n",
              "      <td>5.097813</td>\n",
              "      <td>0.057881</td>\n",
              "      <td>84.134269</td>\n",
              "      <td>33.426742</td>\n",
              "      <td>35.973692</td>\n",
              "      <td>26.387157</td>\n",
              "      <td>17.520682</td>\n",
              "      <td>15.859495</td>\n",
              "      <td>10.205082</td>\n",
              "      <td>4.266648</td>\n",
              "      <td>12.452184</td>\n",
              "      <td>10.274470</td>\n",
              "      <td>8.170876</td>\n",
              "      <td>10.657134</td>\n",
              "      <td>0.051699</td>\n",
              "      <td>0.439429</td>\n",
              "      <td>1.241448</td>\n",
              "      <td>-0.210667</td>\n",
              "      <td>0.262984</td>\n",
              "      <td>0.450350</td>\n",
              "      <td>0.198243</td>\n",
              "      <td>0.224726</td>\n",
              "      <td>-0.099397</td>\n",
              "      <td>0.234643</td>\n",
              "      <td>-0.294504</td>\n",
              "      <td>-0.195303</td>\n",
              "      <td>-0.239017</td>\n",
              "      <td>0.000202</td>\n",
              "      <td>23.067713</td>\n",
              "      <td>...</td>\n",
              "      <td>12.549988</td>\n",
              "      <td>13.982228</td>\n",
              "      <td>10.373075</td>\n",
              "      <td>7.870573</td>\n",
              "      <td>5.534291</td>\n",
              "      <td>3.727923</td>\n",
              "      <td>5.682499</td>\n",
              "      <td>5.465364</td>\n",
              "      <td>5.090951</td>\n",
              "      <td>6.071922</td>\n",
              "      <td>0.015846</td>\n",
              "      <td>-0.984435</td>\n",
              "      <td>-0.854873</td>\n",
              "      <td>-0.128816</td>\n",
              "      <td>0.044004</td>\n",
              "      <td>0.166247</td>\n",
              "      <td>0.212069</td>\n",
              "      <td>-0.047727</td>\n",
              "      <td>-0.201824</td>\n",
              "      <td>0.001825</td>\n",
              "      <td>-0.031827</td>\n",
              "      <td>0.138288</td>\n",
              "      <td>0.500440</td>\n",
              "      <td>-0.000354</td>\n",
              "      <td>16.471000</td>\n",
              "      <td>13.790482</td>\n",
              "      <td>9.720039</td>\n",
              "      <td>12.628419</td>\n",
              "      <td>9.743204</td>\n",
              "      <td>8.158772</td>\n",
              "      <td>6.065978</td>\n",
              "      <td>4.301605</td>\n",
              "      <td>5.949601</td>\n",
              "      <td>6.541952</td>\n",
              "      <td>6.156682</td>\n",
              "      <td>6.021640</td>\n",
              "      <td>0.011175</td>\n",
              "      <td>0</td>\n",
              "      <td>speechcommands/zero/9a356ab9_nohash_0.wav</td>\n",
              "      <td>testing</td>\n",
              "    </tr>\n",
              "    <tr>\n",
              "      <th>2</th>\n",
              "      <td>-275.736547</td>\n",
              "      <td>81.140518</td>\n",
              "      <td>-31.678485</td>\n",
              "      <td>8.192047</td>\n",
              "      <td>-8.050540</td>\n",
              "      <td>-13.020994</td>\n",
              "      <td>-18.425047</td>\n",
              "      <td>-13.742564</td>\n",
              "      <td>-12.078471</td>\n",
              "      <td>-11.741452</td>\n",
              "      <td>4.020150</td>\n",
              "      <td>6.066708</td>\n",
              "      <td>0.050165</td>\n",
              "      <td>76.450633</td>\n",
              "      <td>46.913896</td>\n",
              "      <td>25.957282</td>\n",
              "      <td>24.905421</td>\n",
              "      <td>12.130072</td>\n",
              "      <td>11.692064</td>\n",
              "      <td>11.890243</td>\n",
              "      <td>6.355213</td>\n",
              "      <td>10.060207</td>\n",
              "      <td>16.333594</td>\n",
              "      <td>7.750344</td>\n",
              "      <td>9.072346</td>\n",
              "      <td>0.054522</td>\n",
              "      <td>0.281933</td>\n",
              "      <td>0.171861</td>\n",
              "      <td>0.049580</td>\n",
              "      <td>-0.098732</td>\n",
              "      <td>0.138746</td>\n",
              "      <td>0.281918</td>\n",
              "      <td>0.111843</td>\n",
              "      <td>0.290220</td>\n",
              "      <td>0.324313</td>\n",
              "      <td>0.172042</td>\n",
              "      <td>0.107208</td>\n",
              "      <td>0.023954</td>\n",
              "      <td>-0.000003</td>\n",
              "      <td>18.702750</td>\n",
              "      <td>...</td>\n",
              "      <td>12.558461</td>\n",
              "      <td>11.805291</td>\n",
              "      <td>7.417775</td>\n",
              "      <td>6.512207</td>\n",
              "      <td>6.018384</td>\n",
              "      <td>3.262841</td>\n",
              "      <td>5.516115</td>\n",
              "      <td>7.591983</td>\n",
              "      <td>5.994602</td>\n",
              "      <td>5.150718</td>\n",
              "      <td>0.014187</td>\n",
              "      <td>-0.409180</td>\n",
              "      <td>-0.338278</td>\n",
              "      <td>0.012349</td>\n",
              "      <td>0.059250</td>\n",
              "      <td>-0.094228</td>\n",
              "      <td>0.117583</td>\n",
              "      <td>0.106586</td>\n",
              "      <td>-0.095065</td>\n",
              "      <td>0.103764</td>\n",
              "      <td>-0.122514</td>\n",
              "      <td>-0.037074</td>\n",
              "      <td>0.250533</td>\n",
              "      <td>-0.000003</td>\n",
              "      <td>13.335440</td>\n",
              "      <td>7.958702</td>\n",
              "      <td>9.623671</td>\n",
              "      <td>9.860872</td>\n",
              "      <td>7.108913</td>\n",
              "      <td>7.249074</td>\n",
              "      <td>6.949983</td>\n",
              "      <td>3.635971</td>\n",
              "      <td>6.122364</td>\n",
              "      <td>7.556115</td>\n",
              "      <td>6.610998</td>\n",
              "      <td>5.123324</td>\n",
              "      <td>0.010048</td>\n",
              "      <td>0</td>\n",
              "      <td>speechcommands/zero/ffa76c4a_nohash_0.wav</td>\n",
              "      <td>testing</td>\n",
              "    </tr>\n",
              "    <tr>\n",
              "      <th>3</th>\n",
              "      <td>-296.152807</td>\n",
              "      <td>71.252755</td>\n",
              "      <td>-24.752297</td>\n",
              "      <td>-1.291706</td>\n",
              "      <td>2.582055</td>\n",
              "      <td>-13.033137</td>\n",
              "      <td>-15.970519</td>\n",
              "      <td>-5.492801</td>\n",
              "      <td>-4.710007</td>\n",
              "      <td>2.712824</td>\n",
              "      <td>-0.229066</td>\n",
              "      <td>3.456209</td>\n",
              "      <td>0.020860</td>\n",
              "      <td>48.886287</td>\n",
              "      <td>41.325680</td>\n",
              "      <td>21.318481</td>\n",
              "      <td>12.061560</td>\n",
              "      <td>10.515198</td>\n",
              "      <td>9.544229</td>\n",
              "      <td>8.830929</td>\n",
              "      <td>5.915584</td>\n",
              "      <td>10.408056</td>\n",
              "      <td>7.335370</td>\n",
              "      <td>7.195736</td>\n",
              "      <td>9.615434</td>\n",
              "      <td>0.019713</td>\n",
              "      <td>0.109133</td>\n",
              "      <td>-0.039675</td>\n",
              "      <td>-0.236697</td>\n",
              "      <td>-0.280898</td>\n",
              "      <td>-0.061717</td>\n",
              "      <td>-0.034671</td>\n",
              "      <td>-0.191785</td>\n",
              "      <td>-0.077639</td>\n",
              "      <td>0.036767</td>\n",
              "      <td>-0.183297</td>\n",
              "      <td>-0.109700</td>\n",
              "      <td>-0.114952</td>\n",
              "      <td>-0.000001</td>\n",
              "      <td>13.611988</td>\n",
              "      <td>...</td>\n",
              "      <td>13.588197</td>\n",
              "      <td>9.982348</td>\n",
              "      <td>5.721688</td>\n",
              "      <td>5.782709</td>\n",
              "      <td>4.912296</td>\n",
              "      <td>4.797795</td>\n",
              "      <td>7.239057</td>\n",
              "      <td>5.382060</td>\n",
              "      <td>4.907939</td>\n",
              "      <td>4.609772</td>\n",
              "      <td>0.005283</td>\n",
              "      <td>-0.163656</td>\n",
              "      <td>-0.093450</td>\n",
              "      <td>0.174040</td>\n",
              "      <td>0.095907</td>\n",
              "      <td>-0.042282</td>\n",
              "      <td>0.252549</td>\n",
              "      <td>0.265845</td>\n",
              "      <td>-0.007660</td>\n",
              "      <td>0.066795</td>\n",
              "      <td>-0.217256</td>\n",
              "      <td>-0.122534</td>\n",
              "      <td>0.208651</td>\n",
              "      <td>-0.000001</td>\n",
              "      <td>11.867533</td>\n",
              "      <td>13.227966</td>\n",
              "      <td>14.521555</td>\n",
              "      <td>10.549559</td>\n",
              "      <td>7.776399</td>\n",
              "      <td>6.692568</td>\n",
              "      <td>5.097302</td>\n",
              "      <td>6.073075</td>\n",
              "      <td>8.481968</td>\n",
              "      <td>5.988967</td>\n",
              "      <td>7.139859</td>\n",
              "      <td>5.193323</td>\n",
              "      <td>0.003298</td>\n",
              "      <td>0</td>\n",
              "      <td>speechcommands/zero/1f3bece8_nohash_1.wav</td>\n",
              "      <td>testing</td>\n",
              "    </tr>\n",
              "    <tr>\n",
              "      <th>4</th>\n",
              "      <td>-272.973024</td>\n",
              "      <td>91.522562</td>\n",
              "      <td>-2.917038</td>\n",
              "      <td>19.843625</td>\n",
              "      <td>9.325217</td>\n",
              "      <td>0.632214</td>\n",
              "      <td>-9.203484</td>\n",
              "      <td>-0.916139</td>\n",
              "      <td>-6.509701</td>\n",
              "      <td>7.036509</td>\n",
              "      <td>6.406070</td>\n",
              "      <td>10.134032</td>\n",
              "      <td>0.036683</td>\n",
              "      <td>57.050857</td>\n",
              "      <td>35.460536</td>\n",
              "      <td>27.113032</td>\n",
              "      <td>22.447444</td>\n",
              "      <td>13.243261</td>\n",
              "      <td>11.307137</td>\n",
              "      <td>12.262342</td>\n",
              "      <td>9.799062</td>\n",
              "      <td>14.374859</td>\n",
              "      <td>6.253029</td>\n",
              "      <td>8.597469</td>\n",
              "      <td>4.207557</td>\n",
              "      <td>0.031657</td>\n",
              "      <td>-0.619046</td>\n",
              "      <td>-0.799378</td>\n",
              "      <td>-0.896893</td>\n",
              "      <td>-0.814304</td>\n",
              "      <td>-0.368227</td>\n",
              "      <td>-0.081411</td>\n",
              "      <td>-0.097555</td>\n",
              "      <td>0.233675</td>\n",
              "      <td>0.736064</td>\n",
              "      <td>0.468528</td>\n",
              "      <td>0.450556</td>\n",
              "      <td>0.209348</td>\n",
              "      <td>-0.001608</td>\n",
              "      <td>13.742188</td>\n",
              "      <td>...</td>\n",
              "      <td>13.826697</td>\n",
              "      <td>11.630501</td>\n",
              "      <td>6.029692</td>\n",
              "      <td>8.367636</td>\n",
              "      <td>6.491662</td>\n",
              "      <td>5.145390</td>\n",
              "      <td>4.626708</td>\n",
              "      <td>4.801253</td>\n",
              "      <td>4.565421</td>\n",
              "      <td>3.082233</td>\n",
              "      <td>0.006354</td>\n",
              "      <td>-1.032749</td>\n",
              "      <td>-0.027124</td>\n",
              "      <td>-0.559604</td>\n",
              "      <td>0.292989</td>\n",
              "      <td>-0.267489</td>\n",
              "      <td>0.074381</td>\n",
              "      <td>0.460606</td>\n",
              "      <td>-0.235870</td>\n",
              "      <td>0.413832</td>\n",
              "      <td>-0.416478</td>\n",
              "      <td>0.334952</td>\n",
              "      <td>0.163466</td>\n",
              "      <td>0.000238</td>\n",
              "      <td>8.085816</td>\n",
              "      <td>10.998547</td>\n",
              "      <td>10.429774</td>\n",
              "      <td>10.442356</td>\n",
              "      <td>5.568739</td>\n",
              "      <td>8.691046</td>\n",
              "      <td>5.968583</td>\n",
              "      <td>4.955021</td>\n",
              "      <td>5.590519</td>\n",
              "      <td>5.125123</td>\n",
              "      <td>5.185835</td>\n",
              "      <td>3.821161</td>\n",
              "      <td>0.004113</td>\n",
              "      <td>0</td>\n",
              "      <td>speechcommands/zero/7dc95912_nohash_1.wav</td>\n",
              "      <td>testing</td>\n",
              "    </tr>\n",
              "  </tbody>\n",
              "</table>\n",
              "<p>5 rows × 81 columns</p>\n",
              "</div>"
            ],
            "text/plain": [
              "   mfcc_0_mean  mfcc_1_mean  ...                                   filename     type\n",
              "0  -231.160964   102.122939  ...  speechcommands/zero/6021f08b_nohash_0.wav  testing\n",
              "1  -226.632715    72.906819  ...  speechcommands/zero/9a356ab9_nohash_0.wav  testing\n",
              "2  -275.736547    81.140518  ...  speechcommands/zero/ffa76c4a_nohash_0.wav  testing\n",
              "3  -296.152807    71.252755  ...  speechcommands/zero/1f3bece8_nohash_1.wav  testing\n",
              "4  -272.973024    91.522562  ...  speechcommands/zero/7dc95912_nohash_1.wav  testing\n",
              "\n",
              "[5 rows x 81 columns]"
            ]
          },
          "metadata": {
            "tags": []
          },
          "execution_count": 54
        }
      ]
    },
    {
      "cell_type": "markdown",
      "metadata": {
        "id": "UL05N_B3FP8n",
        "colab_type": "text"
      },
      "source": [
        "### Evaluamos en los audios de testing con ruido ambiente"
      ]
    },
    {
      "cell_type": "code",
      "metadata": {
        "id": "CjdWLSBmrOeW",
        "colab_type": "code",
        "colab": {}
      },
      "source": [
        "# defino los datasets\n",
        "Xamb, yamb = df_ruido_ambiente.iloc[:,1:78], df_ruido_ambiente.iloc[:,78]"
      ],
      "execution_count": null,
      "outputs": []
    },
    {
      "cell_type": "markdown",
      "metadata": {
        "id": "t01heDKWrRyF",
        "colab_type": "text"
      },
      "source": [
        "#### Naive Bayes"
      ]
    },
    {
      "cell_type": "code",
      "metadata": {
        "id": "MstUxuJRrSNt",
        "colab_type": "code",
        "colab": {
          "base_uri": "https://localhost:8080/",
          "height": 869
        },
        "outputId": "f9146eee-275e-430b-a598-9efefc4acf98"
      },
      "source": [
        "# matriz de confusion\n",
        "fig, ax = plt.subplots(figsize=(10, 10))\n",
        "plot_confusion_matrix(gnb, Xamb, yamb, ax=ax, values_format=\"d\")\n",
        "\n",
        "#Evaluo sobre el dataset de testing\n",
        "y_pred_gnb_ambiente = gnb.predict(Xamb)\n",
        "gnb_score_ambiente = metric(yamb,y_pred_gnb_ambiente)\n",
        "\n",
        "# resporte de metricas por clase\n",
        "print(classification_report(yamb, y_pred_gnb_ambiente))"
      ],
      "execution_count": null,
      "outputs": [
        {
          "output_type": "stream",
          "text": [
            "              precision    recall  f1-score   support\n",
            "\n",
            "           0       0.61      0.16      0.26       250\n",
            "           1       0.34      0.57      0.42       248\n",
            "           2       0.23      0.75      0.35       264\n",
            "           3       0.36      0.16      0.22       267\n",
            "           4       0.43      0.58      0.49       253\n",
            "           5       0.40      0.70      0.51       271\n",
            "           6       0.87      0.16      0.28       244\n",
            "           7       0.53      0.15      0.23       239\n",
            "           8       0.40      0.14      0.20       257\n",
            "           9       0.47      0.13      0.20       259\n",
            "\n",
            "    accuracy                           0.36      2552\n",
            "   macro avg       0.46      0.35      0.32      2552\n",
            "weighted avg       0.46      0.36      0.32      2552\n",
            "\n"
          ],
          "name": "stdout"
        },
        {
          "output_type": "display_data",
          "data": {
            "image/png": "[encoded data removed]",
            "text/plain": [
              "<Figure size 720x720 with 2 Axes>"
            ]
          },
          "metadata": {
            "tags": [],
            "needs_background": "light"
          }
        }
      ]
    },
    {
      "cell_type": "markdown",
      "metadata": {
        "id": "36PBbNV_sFVk",
        "colab_type": "text"
      },
      "source": [
        "#### Random Forest"
      ]
    },
    {
      "cell_type": "code",
      "metadata": {
        "id": "XgqcHgPHsFDj",
        "colab_type": "code",
        "colab": {
          "base_uri": "https://localhost:8080/",
          "height": 873
        },
        "outputId": "07769adb-249e-4968-aaf6-c2718b7f2361"
      },
      "source": [
        "# matriz de confusion\n",
        "fig, ax = plt.subplots(figsize=(10, 10))\n",
        "plot_confusion_matrix(rfc, Xamb, yamb, ax=ax, values_format=\"d\")\n",
        "\n",
        "#Evaluo sobre el dataset de testing\n",
        "y_pred_rfc_ambiente = rfc.predict(Xamb)\n",
        "rfc_score_ambiente = metric(yamb,y_pred_rfc_ambiente)\n",
        "\n",
        "# resporte de metricas por clase\n",
        "print(classification_report(yamb, y_pred_rfc_ambiente))"
      ],
      "execution_count": null,
      "outputs": [
        {
          "output_type": "stream",
          "text": [
            "              precision    recall  f1-score   support\n",
            "\n",
            "           0       0.55      0.63      0.59       250\n",
            "           1       0.49      0.50      0.50       248\n",
            "           2       0.42      0.62      0.50       264\n",
            "           3       0.54      0.37      0.44       267\n",
            "           4       0.59      0.71      0.65       253\n",
            "           5       0.63      0.64      0.63       271\n",
            "           6       0.90      0.58      0.70       244\n",
            "           7       0.71      0.48      0.57       239\n",
            "           8       0.66      0.68      0.67       257\n",
            "           9       0.51      0.54      0.53       259\n",
            "\n",
            "    accuracy                           0.58      2552\n",
            "   macro avg       0.60      0.58      0.58      2552\n",
            "weighted avg       0.60      0.58      0.58      2552\n",
            "\n"
          ],
          "name": "stdout"
        },
        {
          "output_type": "display_data",
          "data": {
            "image/png": "[encoded data removed]",
            "text/plain": [
              "<Figure size 720x720 with 2 Axes>"
            ]
          },
          "metadata": {
            "tags": [],
            "needs_background": "light"
          }
        }
      ]
    },
    {
      "cell_type": "markdown",
      "metadata": {
        "id": "dKxY1wnUsXWb",
        "colab_type": "text"
      },
      "source": [
        "#### Gradient Boosting Classifier"
      ]
    },
    {
      "cell_type": "code",
      "metadata": {
        "id": "Pdq845ulsW_1",
        "colab_type": "code",
        "colab": {
          "base_uri": "https://localhost:8080/",
          "height": 869
        },
        "outputId": "daaaa09a-b0a6-4524-d09a-20634e3ab168"
      },
      "source": [
        "# matriz de confusion\n",
        "fig, ax = plt.subplots(figsize=(10, 10))\n",
        "plot_confusion_matrix(gbc, Xamb, yamb, ax=ax, values_format=\"d\")\n",
        "\n",
        "#Evaluo sobre el dataset de testing\n",
        "y_pred_gbc_ambiente = gbc.predict(Xga)\n",
        "gbc_score_ambiente = metric(yamb,y_pred_gbc_ambiente)\n",
        "\n",
        "# resporte de metricas por clase\n",
        "print(classification_report(yamb, y_pred_gbc_ambiente))"
      ],
      "execution_count": null,
      "outputs": [
        {
          "output_type": "stream",
          "text": [
            "              precision    recall  f1-score   support\n",
            "\n",
            "           0       0.45      0.40      0.42       250\n",
            "           1       0.54      0.57      0.56       248\n",
            "           2       0.32      0.40      0.36       264\n",
            "           3       0.50      0.19      0.28       267\n",
            "           4       0.44      0.62      0.52       253\n",
            "           5       0.59      0.36      0.44       271\n",
            "           6       0.31      0.60      0.41       244\n",
            "           7       0.34      0.45      0.39       239\n",
            "           8       0.63      0.51      0.56       257\n",
            "           9       0.70      0.33      0.45       259\n",
            "\n",
            "    accuracy                           0.44      2552\n",
            "   macro avg       0.48      0.44      0.44      2552\n",
            "weighted avg       0.48      0.44      0.44      2552\n",
            "\n"
          ],
          "name": "stdout"
        },
        {
          "output_type": "display_data",
          "data": {
            "image/png": "[encoded data removed]",
            "text/plain": [
              "<Figure size 720x720 with 2 Axes>"
            ]
          },
          "metadata": {
            "tags": [],
            "needs_background": "light"
          }
        }
      ]
    },
    {
      "cell_type": "code",
      "metadata": {
        "id": "r45mLQA03xcO",
        "colab_type": "code",
        "colab": {
          "base_uri": "https://localhost:8080/",
          "height": 102
        },
        "outputId": "75ba0a1b-e6fe-46ba-dd6d-ce41b5f5b564"
      },
      "source": [
        "#Resultado de las métricas\n",
        "list_scores = [['Naive Bayes ', gnb_score_ambiente], \n",
        "               ['Random Forest ', rfc_score_ambiente],\n",
        "               ['Gradient Boosting ', gbc_score_ambiente]]\n",
        "\n",
        "# dibujo una tabla con los valores de las metricas.\n",
        "render_metric_table(list_scores)"
      ],
      "execution_count": null,
      "outputs": [
        {
          "output_type": "stream",
          "text": [
            "            modelo            |  score  \n",
            "------------------------------|---------\n",
            "         Naive Bayes          |  0.355  \n",
            "        Random Forest         |  0.576  \n",
            "      Gradient Boosting       |  0.441  \n"
          ],
          "name": "stdout"
        }
      ]
    },
    {
      "cell_type": "markdown",
      "metadata": {
        "id": "x-XkafGUvwk1",
        "colab_type": "text"
      },
      "source": [
        "# Audios Grabados"
      ]
    },
    {
      "cell_type": "code",
      "metadata": {
        "id": "FELxYHn13BFz",
        "colab_type": "code",
        "colab": {
          "base_uri": "https://localhost:8080/",
          "height": 102
        },
        "outputId": "71fa55bf-aaaa-4ad5-e21f-085dca7c8aba"
      },
      "source": [
        "#Descargar el dataset creado\n",
        "url = 'https://raw.githubusercontent.com/dikaoru/csv-aa/master/speech_alto.csv'\n",
        "df_grab_bajo = pd.read_csv(url, index_col = 0)\n",
        "\n",
        "url = 'https://raw.githubusercontent.com/dikaoru/csv-aa/master/bajo.csv'\n",
        "df_grab_alto = pd.read_csv(url, index_col = 0)\n",
        "\n",
        "url = 'https://raw.githubusercontent.com/dikaoru/csv-aa/master/phaser.csv'\n",
        "df_grab_phaser = pd.read_csv(url, index_col = 0)\n",
        "\n",
        "url = 'https://raw.githubusercontent.com/dikaoru/csv-aa/master/reverb.csv'\n",
        "df_grab_reverb = pd.read_csv(url, index_col = 0)\n",
        "\n",
        "url = 'https://raw.githubusercontent.com/dikaoru/csv-aa/master/original.csv'\n",
        "df_grab_original = pd.read_csv(url, index_col = 0)\n",
        "\n",
        "print('alto', df_grab_alto.shape)\n",
        "print('bajo', df_grab_bajo.shape)\n",
        "print('phaser', df_grab_phaser.shape)\n",
        "print('reverb', df_grab_reverb.shape)\n",
        "print('original', df_grab_original.shape)\n"
      ],
      "execution_count": null,
      "outputs": [
        {
          "output_type": "stream",
          "text": [
            "alto (36, 81)\n",
            "bajo (36, 81)\n",
            "phaser (36, 81)\n",
            "reverb (36, 81)\n",
            "original (36, 81)\n"
          ],
          "name": "stdout"
        }
      ]
    },
    {
      "cell_type": "markdown",
      "metadata": {
        "id": "5V0hLi183E1j",
        "colab_type": "text"
      },
      "source": [
        "## Evaluamos en los audios grabados"
      ]
    },
    {
      "cell_type": "code",
      "metadata": {
        "id": "UcpIlQCr3Fgn",
        "colab_type": "code",
        "colab": {}
      },
      "source": [
        "# defino los datasets\n",
        "Xalto, yalto = df_grab_alto.iloc[:,1:78], df_grab_alto.iloc[:,78]\n",
        "Xbajo, ybajo = df_grab_bajo.iloc[:,1:78], df_grab_bajo.iloc[:,78]\n",
        "Xphaser, yphaser = df_grab_phaser.iloc[:,1:78], df_grab_phaser.iloc[:,78]\n",
        "Xreverb, yreverb = df_grab_reverb.iloc[:,1:78], df_grab_reverb.iloc[:,78]\n",
        "Xoriginal, yoriginal = df_grab_original.iloc[:,1:78], df_grab_original.iloc[:,78]"
      ],
      "execution_count": null,
      "outputs": []
    },
    {
      "cell_type": "code",
      "metadata": {
        "id": "A_oUHcRdGWCk",
        "colab_type": "code",
        "colab": {
          "base_uri": "https://localhost:8080/",
          "height": 374
        },
        "outputId": "fbc06f72-350c-44b0-ed17-7c8833615992"
      },
      "source": [
        "def get_scores(X, y):\n",
        "  y_pred_bayes = gnb.predict(X)\n",
        "  score_bayes = metric(y,y_pred_bayes)\n",
        "\n",
        "  y_pred_forest = rfc.predict(X)\n",
        "  score_forest = metric(y,y_pred_forest)\n",
        "\n",
        "  y_pred_boosting = gbc.predict(X)\n",
        "  score_boosting = metric(y,y_pred_boosting)\n",
        "\n",
        "  return score_bayes, score_forest, score_boosting\n",
        "\n",
        "score_bayes_alto, score_forest_alto, score_boosting_alto = get_scores(Xalto, yalto)\n",
        "score_bayes_bajos, score_forest_bajos, score_boosting_bajos = get_scores(Xbajo, ybajo)\n",
        "score_bayes_phaser, score_forest_phaser, score_boosting_phaser = get_scores(Xphaser, yphaser)\n",
        "score_bayes_reverb, score_forest_reverb, score_boosting_reverb = get_scores(Xreverb, yreverb)\n",
        "score_bayes_original, score_forest_original, score_boosting_original = get_scores(Xoriginal, yoriginal)\n",
        "\n",
        "\n",
        "#Resultado de las métricas\n",
        "list_scores = [['Bayes original', score_bayes_original], \n",
        "               ['Forest original', score_forest_original],\n",
        "               ['Boosting original', score_boosting_original],\n",
        "               [],\n",
        "               ['Bayes altos', score_bayes_alto], \n",
        "               ['Forest altos', score_forest_alto],\n",
        "               ['Boosting altos', score_boosting_alto],\n",
        "               [],\n",
        "               ['Bayes bajos', score_bayes_bajos], \n",
        "               ['Forest bajos', score_forest_bajos],\n",
        "               ['Boosting bajos', score_boosting_bajos],\n",
        "               [],\n",
        "               ['Bayes phaser', score_bayes_phaser], \n",
        "               ['Forest phaser', score_forest_phaser],\n",
        "               ['Boosting phaser', score_boosting_phaser],\n",
        "               [],\n",
        "               ['Bayes reverb', score_bayes_reverb], \n",
        "               ['Forest reverb', score_forest_reverb],\n",
        "               ['Boosting reverb', score_boosting_reverb]\n",
        "               ]\n",
        "# dibujo una tabla con los valores de las metricas.\n",
        "render_metric_table(list_scores)"
      ],
      "execution_count": null,
      "outputs": [
        {
          "output_type": "stream",
          "text": [
            "            modelo            |  score  \n",
            "------------------------------|---------\n",
            "        Bayes original        |  0.278  \n",
            "       Forest original        |  0.278  \n",
            "      Boosting original       |  0.306  \n",
            "---------------------------------------\n",
            "         Bayes altos          |  0.306  \n",
            "         Forest altos         |  0.278  \n",
            "        Boosting altos        |  0.250  \n",
            "---------------------------------------\n",
            "         Bayes bajos          |  0.194  \n",
            "         Forest bajos         |  0.056  \n",
            "        Boosting bajos        |  0.222  \n",
            "---------------------------------------\n",
            "         Bayes phaser         |  0.194  \n",
            "        Forest phaser         |  0.222  \n",
            "       Boosting phaser        |  0.278  \n",
            "---------------------------------------\n",
            "         Bayes reverb         |  0.194  \n",
            "        Forest reverb         |  0.222  \n",
            "       Boosting reverb        |  0.194  \n"
          ],
          "name": "stdout"
        }
      ]
    },
    {
      "cell_type": "markdown",
      "metadata": {
        "id": "VVp_9vJu6sWp",
        "colab_type": "text"
      },
      "source": [
        "# Graficos"
      ]
    },
    {
      "cell_type": "code",
      "metadata": {
        "id": "Iv-0zezJ9HiF",
        "colab_type": "code",
        "colab": {
          "base_uri": "https://localhost:8080/",
          "height": 374
        },
        "outputId": "3cdbce4e-0c51-438b-aa09-6157f0c09ea3"
      },
      "source": [
        "label = ['testing', 'ruiso-gaussiano', 'ruido-ambiente', 'grabado-alto', 'grabado-bajo', 'grabado-phaser', 'grabado-reverb', 'grabado-original']\n",
        "bayes = [gnb_score_testing, gnb_score_gaussiano, gnb_score_ambiente, score_bayes_alto, score_bayes_bajos, score_bayes_phaser, score_bayes_reverb, score_bayes_original]\n",
        "forest = [rfc_score_testing, rfc_score_gaussiano, rfc_score_ambiente, score_forest_alto, score_forest_bajos, score_forest_phaser, score_forest_reverb, score_forest_original]\n",
        "boosting = [gbc_score_testing, gbc_score_gaussiano, gbc_score_ambiente, score_boosting_alto, score_boosting_bajos, score_boosting_phaser, score_boosting_reverb, score_boosting_original]\n",
        "\n",
        "x_pos = [i for i, _ in enumerate(label)]\n",
        "\n",
        "plt.subplots(figsize=(15, 6))\n",
        "plt.plot(x_pos, bayes,'-o', color='green', label=\"naive bayes\")\n",
        "plt.plot(x_pos, forest, '-o', color='blue', label=\"random forest\")\n",
        "plt.plot(x_pos, boosting,'-o', color='red', label=\"gradient boosting\")\n",
        "\n",
        "plt.xticks(x_pos, label)\n",
        "plt.legend()\n",
        "plt.show()"
      ],
      "execution_count": null,
      "outputs": [
        {
          "output_type": "display_data",
          "data": {
            "image/png": "[encoded data removed]",
            "text/plain": [
              "<Figure size 1080x432 with 1 Axes>"
            ]
          },
          "metadata": {
            "tags": [],
            "needs_background": "light"
          }
        }
      ]
    }
  ]
}